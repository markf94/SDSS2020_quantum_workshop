{
 "cells": [
  {
   "cell_type": "markdown",
   "metadata": {
    "colab_type": "text",
    "id": "view-in-github"
   },
   "source": [
    "<a href=\"https://colab.research.google.com/github/markf94/SDSS2020_quantum_workshop/blob/master/solutions/solutions_tutorial_II_quantum_programming_SDSS2020.ipynb\" target=\"_parent\"><img src=\"https://colab.research.google.com/assets/colab-badge.svg\" alt=\"Open In Colab\"/></a>"
   ]
  },
  {
   "cell_type": "markdown",
   "metadata": {
    "colab_type": "text",
    "id": "c-63P7sQhmcW"
   },
   "source": [
    "# Solutions for tutorial 2: Quantum programming in PyQuil"
   ]
  },
  {
   "cell_type": "markdown",
   "metadata": {
    "colab_type": "text",
    "id": "p35tMk30hmcZ"
   },
   "source": [
    "##### After going through this 1 hour tutorial you will:\n",
    "\n",
    "- be able to use pyQuil to create shallow circuits\n",
    "- have used pyQuil's wavefunction simulator\n",
    "- have used pyQuil's Quantum Virtual Machine\n",
    "- retrieved QPU specifications\n",
    "- compiled a quantum program to the Aspen-8 QPU"
   ]
  },
  {
   "cell_type": "markdown",
   "metadata": {},
   "source": [
    "### IMPORTANT!\n",
    "\n",
    "Make sure that you are running your own local instances of the Rigetti Quantum Virtual Machine (QVM) simulator and the Quilc compiler. Check the `README.md` of this repository to find out how to do this. Otherwise this notebook won't work for you."
   ]
  },
  {
   "cell_type": "markdown",
   "metadata": {
    "colab_type": "text",
    "id": "2cFwDDJahmcc"
   },
   "source": [
    "We need to again install pyQuil since we're now in another notebook."
   ]
  },
  {
   "cell_type": "code",
   "execution_count": 2,
   "metadata": {
    "colab": {
     "base_uri": "https://localhost:8080/",
     "height": 332
    },
    "colab_type": "code",
    "id": "sPMp-tfChmcf",
    "outputId": "61326348-8143-4a18-f80d-b9d699a2bb37"
   },
   "outputs": [
    {
     "name": "stdout",
     "output_type": "stream",
     "text": [
      "Looking in indexes: https://pypi.org/simple, https://pypi.proteinqure.com\n",
      "Requirement already satisfied: pyquil in /home/markf94/.local/lib/python3.7/site-packages (2.19.0)\n",
      "Requirement already satisfied: rpcq>=3.0.0 in /home/markf94/.local/lib/python3.7/site-packages (from pyquil) (3.3.0)\n",
      "Requirement already satisfied: immutables==0.6 in /usr/local/lib/python3.7/site-packages/immutables-0.6-py3.7-linux-x86_64.egg (from pyquil) (0.6)\n",
      "Requirement already satisfied: numpy in /home/markf94/.local/lib/python3.7/site-packages (from pyquil) (1.18.1)\n",
      "Requirement already satisfied: networkx>=2.0.0 in /home/markf94/.local/lib/python3.7/site-packages (from pyquil) (2.1)\n",
      "Requirement already satisfied: requests in /home/markf94/.local/lib/python3.7/site-packages (from pyquil) (2.23.0)\n",
      "Requirement already satisfied: antlr4-python3-runtime<4.8,>=4.7.2 in /home/markf94/.local/lib/python3.7/site-packages (from pyquil) (4.7.2)\n",
      "Requirement already satisfied: ruamel.yaml in /home/markf94/.local/lib/python3.7/site-packages (from rpcq>=3.0.0->pyquil) (0.16.5)\n",
      "Requirement already satisfied: python-rapidjson in /usr/local/lib/python3.7/site-packages/python_rapidjson-0.6.3-py3.7-linux-x86_64.egg (from rpcq>=3.0.0->pyquil) (0.6.3)\n",
      "Requirement already satisfied: msgpack<1.0,>=0.6 in /usr/lib64/python3.7/site-packages (from rpcq>=3.0.0->pyquil) (0.6.1)\n",
      "Requirement already satisfied: pyzmq>=17 in /usr/local/lib/python3.7/site-packages/pyzmq-17.1.2-py3.7-linux-x86_64.egg (from rpcq>=3.0.0->pyquil) (17.1.2)\n",
      "Requirement already satisfied: decorator>=4.1.0 in /usr/lib/python3.7/site-packages (from networkx>=2.0.0->pyquil) (4.4.0)\n",
      "Requirement already satisfied: chardet<4,>=3.0.2 in /home/markf94/.local/lib/python3.7/site-packages (from requests->pyquil) (3.0.4)\n",
      "Requirement already satisfied: certifi>=2017.4.17 in /home/markf94/.local/lib/python3.7/site-packages (from requests->pyquil) (2019.11.28)\n",
      "Requirement already satisfied: idna<3,>=2.5 in /home/markf94/.local/lib/python3.7/site-packages (from requests->pyquil) (2.9)\n",
      "Requirement already satisfied: urllib3!=1.25.0,!=1.25.1,<1.26,>=1.21.1 in /home/markf94/.local/lib/python3.7/site-packages (from requests->pyquil) (1.25.8)\n",
      "Requirement already satisfied: ruamel.yaml.clib>=0.1.2; platform_python_implementation == \"CPython\" and python_version < \"3.8\" in /home/markf94/.local/lib/python3.7/site-packages (from ruamel.yaml->rpcq>=3.0.0->pyquil) (0.2.0)\n"
     ]
    }
   ],
   "source": [
    "!pip install pyquil"
   ]
  },
  {
   "cell_type": "markdown",
   "metadata": {
    "colab_type": "text",
    "id": "Gbq3f0Rlhmdr"
   },
   "source": [
    "***\n",
    "## 1. PyQuil"
   ]
  },
  {
   "cell_type": "markdown",
   "metadata": {
    "colab_type": "text",
    "id": "LSTGIeNthmds"
   },
   "source": [
    "PyQuil is the Python layer on top of Quil. You can think of it as a high-level abstraction layer on top of the very basic Quil instruction language. This is similar to how we use Python to program classical computers instead of writing code in low-level assembly language.\n"
   ]
  },
  {
   "cell_type": "markdown",
   "metadata": {
    "colab_type": "text",
    "id": "VGOVdozHT4oB"
   },
   "source": [
    "### Exercise 1.0\n",
    "\n",
    "For our first exploration of PyQuil functionality we will use their `WavefunctionSimulator`. Please make sure to read + understand the first two paragraphs of the [documentation](http://docs.rigetti.com/en/stable/wavefunction_simulator.html#basis-ordering).\n",
    "\n",
    "What differentiates the wavefunction simulator from other simulators and/or the QPU?"
   ]
  },
  {
   "cell_type": "code",
   "execution_count": 3,
   "metadata": {
    "colab": {},
    "colab_type": "code",
    "id": "4hvI0QM4SRBr"
   },
   "outputs": [],
   "source": [
    "from pyquil.api import WavefunctionSimulator\n",
    "\n",
    "wavefunction_simulator = WavefunctionSimulator()"
   ]
  },
  {
   "cell_type": "markdown",
   "metadata": {
    "colab_type": "text",
    "id": "_RXm1Em6hmdw"
   },
   "source": [
    "#### Exercise 1.1: \n",
    "Using your knowledge from lecture II and [the pyQuil docs](http://docs.rigetti.com/en/stable/basics.html) express the following Quil code as a `Program` in PyQuil:\n",
    "\n",
    "```\n",
    "X 0\n",
    "X 1\n",
    "H 0\n",
    "CNOT 0 1\n",
    "```\n",
    "\n",
    "Run the resulting PyQuil program 10 times with the `run_and_measure()` method of the `WavefunctionSimulator` and inspect the results."
   ]
  },
  {
   "cell_type": "code",
   "execution_count": 4,
   "metadata": {
    "colab": {
     "base_uri": "https://localhost:8080/",
     "height": 191
    },
    "colab_type": "code",
    "id": "4lNZN1Skhmdz",
    "outputId": "3b995b31-b1b8-4df7-b93a-5dd1c8ca62a6"
   },
   "outputs": [
    {
     "name": "stdout",
     "output_type": "stream",
     "text": [
      "[[0 1]\n",
      " [0 1]\n",
      " [0 1]\n",
      " [0 1]\n",
      " [1 0]\n",
      " [0 1]\n",
      " [1 0]\n",
      " [1 0]\n",
      " [0 1]\n",
      " [1 0]]\n"
     ]
    }
   ],
   "source": [
    "from pyquil.quil import Program\n",
    "from pyquil.gates import H, X, CNOT, MEASURE\n",
    "\n",
    "# initialize a pyQuil program that measures the initial qubit state\n",
    "quantum_program = Program()\n",
    "quantum_program += X(0)\n",
    "quantum_program += X(1)\n",
    "quantum_program += H(0)\n",
    "quantum_program += CNOT(0, 1)\n",
    "\n",
    "# TODO: find out how to get the resulting wavefunction + amplitudes after running the program in the QVM\n",
    "bitstrings = wavefunction_simulator.run_and_measure(quantum_program, trials=10)\n",
    "print(bitstrings)"
   ]
  },
  {
   "cell_type": "markdown",
   "metadata": {
    "colab_type": "text",
    "id": "4HTL1lRfhmd8"
   },
   "source": [
    "#### Exercise 1.2:\n",
    "\n",
    "pyQuil's Wavefunction has a lot of very helpful functionalities like obtaining probabilities from amplitudes, plotting as well as pretty printing them. \n",
    "\n",
    "Explore pyQuil's wavefunction functionalities. First get the wavefunction of your new `Program` from the previous exercise, then plot and pretty print the probabilities! (Hint: there exists a not-so-well-documented `plot()` method on the `WavefunctionSimulator`)"
   ]
  },
  {
   "cell_type": "code",
   "execution_count": 7,
   "metadata": {
    "colab": {
     "base_uri": "https://localhost:8080/",
     "height": 404
    },
    "colab_type": "code",
    "id": "Ahish_Lmhmd9",
    "outputId": "ee2d85d5-96d6-463c-a774-440705a6f830"
   },
   "outputs": [
    {
     "name": "stdout",
     "output_type": "stream",
     "text": [
      "Plotting the probabilities:\n"
     ]
    },
    {
     "data": {
      "image/png": "[encoded data removed]",
      "text/plain": [
       "<Figure size 432x288 with 1 Axes>"
      ]
     },
     "metadata": {
      "needs_background": "light"
     },
     "output_type": "display_data"
    },
    {
     "name": "stdout",
     "output_type": "stream",
     "text": [
      "Pretty printing the wavefunction: \n",
      "\n",
      "(-0.71+0j)|01> + (0.71+0j)|10> \n",
      "\n",
      "Pretty printing the probabilities: \n",
      "\n",
      "{'01': 0.5, '10': 0.5}\n"
     ]
    }
   ],
   "source": [
    "%matplotlib inline\n",
    "wavefunction = wavefunction_simulator.wavefunction(quantum_program)\n",
    "\n",
    "print('Plotting the probabilities:')\n",
    "wavefunction.plot()\n",
    "\n",
    "print('Pretty printing the wavefunction: \\n')\n",
    "print(f'{wavefunction.pretty_print()} \\n')\n",
    "\n",
    "print('Pretty printing the probabilities: \\n')\n",
    "print(wavefunction.pretty_print_probabilities())"
   ]
  },
  {
   "cell_type": "markdown",
   "metadata": {
    "colab_type": "text",
    "id": "N_PaqLmZhmeE"
   },
   "source": [
    "***\n",
    "## 2. The Quantum Computer object"
   ]
  },
  {
   "cell_type": "markdown",
   "metadata": {
    "colab_type": "text",
    "id": "PBvNX08aVgYM"
   },
   "source": [
    "In the previous section we were using the `WavefunctionSimulator`. However, unfortunately this simulator is highly unrealistic since in reality we're never (!) able to inspect the wavefunction. We only ever get to measure the wavefunction and sample bitstrings from it. In our effort to program a quantum computer we need to abandon the idea of simulating the wavefunction and simulate the actual interaction with the quantum processor."
   ]
  },
  {
   "cell_type": "markdown",
   "metadata": {
    "colab_type": "text",
    "id": "g3-OtKXcV9CW"
   },
   "source": [
    "To do so, we're going to use the `get_qc()` method which allows us to retrieve a more realistic Quantum Virtual Machine (QVM). For our use cases, a simulator with 4 qubits should suffice:"
   ]
  },
  {
   "cell_type": "code",
   "execution_count": 8,
   "metadata": {
    "colab": {},
    "colab_type": "code",
    "id": "9vyii4BtVgJ7"
   },
   "outputs": [],
   "source": [
    "from pyquil import get_qc\n",
    "\n",
    "quantum_simulator = get_qc('2q-qvm')"
   ]
  },
  {
   "cell_type": "markdown",
   "metadata": {
    "colab_type": "text",
    "id": "Imm71unOhmeI"
   },
   "source": [
    "#### Exercise 2.0:\n",
    "\n",
    "Simulate your quantum program from section 1 with the new `quantum_simulator` for 10 trials. What's different?"
   ]
  },
  {
   "cell_type": "code",
   "execution_count": 12,
   "metadata": {
    "colab": {},
    "colab_type": "code",
    "id": "EuNgiOYWhmeJ"
   },
   "outputs": [
    {
     "data": {
      "text/plain": [
       "{0: array([0, 1, 0, 0, 1, 0, 0, 0, 1, 1]),\n",
       " 1: array([1, 0, 1, 1, 0, 1, 1, 1, 0, 0])}"
      ]
     },
     "execution_count": 12,
     "metadata": {},
     "output_type": "execute_result"
    }
   ],
   "source": [
    "bitstrings = quantum_simulator.run_and_measure(quantum_program, trials=10)\n",
    "bitstrings"
   ]
  },
  {
   "cell_type": "markdown",
   "metadata": {
    "colab_type": "text",
    "id": "8xu9ghDPWmPZ"
   },
   "source": [
    "#### Exercise 2.1:\n",
    "\n",
    "The output in the previous exercise was not very readable. Here's a quick way of converting the output into more familiar bitstrings:"
   ]
  },
  {
   "cell_type": "code",
   "execution_count": 13,
   "metadata": {
    "colab": {
     "base_uri": "https://localhost:8080/",
     "height": 191
    },
    "colab_type": "code",
    "id": "KKqu0zYlWj59",
    "outputId": "5716e7f5-a878-4c44-c39b-40b27f569bbf"
   },
   "outputs": [
    {
     "name": "stdout",
     "output_type": "stream",
     "text": [
      "[[0 1]\n",
      " [1 0]\n",
      " [0 1]\n",
      " [0 1]\n",
      " [1 0]\n",
      " [0 1]\n",
      " [0 1]\n",
      " [0 1]\n",
      " [1 0]\n",
      " [1 0]]\n"
     ]
    }
   ],
   "source": [
    "import numpy as np\n",
    "\n",
    "bitstring_array = np.vstack([bitstrings[q] for q in quantum_simulator.qubits()]).T\n",
    "print(bitstring_array)"
   ]
  },
  {
   "cell_type": "markdown",
   "metadata": {
    "colab_type": "text",
    "id": "yL4qGHCJW_dC"
   },
   "source": [
    "Equipped with this new simulator and the function that converts its output to bitstrings perform the following experiment:\n",
    "\n",
    "Run your quantum program for 1000 trials and compute the probability of each bitstring. Compare it with the plotted wavefunction in Exercise 1.2. What do you observe?\n"
   ]
  },
  {
   "cell_type": "code",
   "execution_count": 14,
   "metadata": {
    "colab": {
     "base_uri": "https://localhost:8080/",
     "height": 86
    },
    "colab_type": "code",
    "id": "dAKSkAA7W_Gx",
    "outputId": "e644e21d-5dbf-4b21-a45b-eeb7e125bcb1"
   },
   "outputs": [
    {
     "name": "stdout",
     "output_type": "stream",
     "text": [
      "|01>: 0.515\n",
      "|10>: 0.485\n"
     ]
    }
   ],
   "source": [
    "bitstrings = quantum_simulator.run_and_measure(quantum_program, trials=1000)\n",
    "bitstring_array = np.vstack([bitstrings[q] for q in quantum_simulator.qubits()]).T\n",
    "\n",
    "unique_bitstrings, counts = np.unique(bitstring_array, axis=0, return_counts=True)\n",
    "for unique_bitstring, count in zip(unique_bitstrings, counts):\n",
    "  unique_bitstring = np.array(map(str, unique_bitstring))\n",
    "  print(f\"|{''.join(unique_bitstring.tolist())}>: {count/sum(counts)}\")"
   ]
  },
  {
   "cell_type": "markdown",
   "metadata": {
    "colab_type": "text",
    "id": "GCgOW9_BEOaE"
   },
   "source": [
    "***\n",
    "## 3. The Quantum Processing Unit (QPU)"
   ]
  },
  {
   "cell_type": "markdown",
   "metadata": {
    "colab_type": "text",
    "id": "b3hnc-v9aIFT"
   },
   "source": [
    "Moving away from simulators this section will teach you how to interact with the Rigetti *QPU*. First, using the `list_quantum_computers()` function we can retrieve the currently available QPUs:"
   ]
  },
  {
   "cell_type": "code",
   "execution_count": 15,
   "metadata": {
    "colab": {
     "base_uri": "https://localhost:8080/",
     "height": 34
    },
    "colab_type": "code",
    "id": "6EPSUbEgackD",
    "outputId": "a86f8a43-99c8-4028-bed9-950b88ed689b"
   },
   "outputs": [
    {
     "name": "stdout",
     "output_type": "stream",
     "text": [
      "['Aspen-8', 'Aspen-4', '9q-square-qvm', '9q-square-noisy-qvm']\n"
     ]
    }
   ],
   "source": [
    "from pyquil import list_quantum_computers\n",
    "\n",
    "print(list_quantum_computers())"
   ]
  },
  {
   "cell_type": "markdown",
   "metadata": {
    "colab_type": "text",
    "id": "0O-zidj_acZ2"
   },
   "source": [
    "#### Exercise 3.0:\n",
    "\n",
    "Retrieve the topology of the `Aspen-8` QPU and plot it with `networkx.draw()`. What do you observe?"
   ]
  },
  {
   "cell_type": "code",
   "execution_count": 17,
   "metadata": {
    "colab": {
     "base_uri": "https://localhost:8080/",
     "height": 374
    },
    "colab_type": "code",
    "id": "im5-BJ5HIhOK",
    "outputId": "e7a23a67-e28f-4aef-c417-495a4d6dcda9"
   },
   "outputs": [
    {
     "name": "stderr",
     "output_type": "stream",
     "text": [
      "/home/markf94/.local/lib/python3.7/site-packages/networkx/drawing/nx_pylab.py:563: MatplotlibDeprecationWarning: \n",
      "The iterable function was deprecated in Matplotlib 3.1 and will be removed in 3.3. Use np.iterable instead.\n",
      "  if not cb.iterable(width):\n",
      "/home/markf94/.local/lib/python3.7/site-packages/networkx/drawing/nx_pylab.py:611: MatplotlibDeprecationWarning: \n",
      "The is_numlike function was deprecated in Matplotlib 3.0 and will be removed in 3.2. Use isinstance(..., numbers.Number) instead.\n",
      "  if cb.is_numlike(alpha):\n"
     ]
    },
    {
     "data": {
      "image/png": "[encoded data removed]",
      "text/plain": [
       "<Figure size 432x288 with 1 Axes>"
      ]
     },
     "metadata": {},
     "output_type": "display_data"
    }
   ],
   "source": [
    "import networkx\n",
    "\n",
    "aspen8 = get_qc('Aspen-8', as_qvm=True)\n",
    "qpu_topology = aspen8.qubit_topology()\n",
    "\n",
    "networkx.draw(qpu_topology, with_labels=True, font_weight='bold')"
   ]
  },
  {
   "cell_type": "markdown",
   "metadata": {
    "colab_type": "text",
    "id": "_ca6iJzqcNFl"
   },
   "source": [
    "#### Exercise 3.1:\n",
    "\n",
    "Current QPU generations are often referred to as Noisy-Intermediate Scale Quantum (NISQ) hardware. This name stems from the fact that the QPUs are suffering from quite a lot of noise and relatively low decoherence times. Try and retrieve the T1 and T2 decoherence times of the Aspen-8 chip! What's the maximum decoherence time in seconds on this chip?"
   ]
  },
  {
   "cell_type": "code",
   "execution_count": 18,
   "metadata": {
    "colab": {
     "base_uri": "https://localhost:8080/",
     "height": 52
    },
    "colab_type": "code",
    "id": "1eJWi1rycM2w",
    "outputId": "ad2be0d3-58d7-4f1b-833b-b6cd70e2d675"
   },
   "outputs": [
    {
     "name": "stdout",
     "output_type": "stream",
     "text": [
      "Maximum T1:  4.49720104298557e-05\n",
      "Maximum T2:  5.67804436605542e-05\n"
     ]
    }
   ],
   "source": [
    "specs = aspen8.device.get_specs()\n",
    "\n",
    "print('Maximum T1: ', max(specs.T1s().values()))\n",
    "print('Maximum T2: ', max(specs.T2s().values()))"
   ]
  },
  {
   "cell_type": "markdown",
   "metadata": {
    "colab_type": "text",
    "id": "oYyEK7raMPJQ"
   },
   "source": [
    "***\n",
    "## 4. Quantum compilation"
   ]
  },
  {
   "cell_type": "markdown",
   "metadata": {
    "colab_type": "text",
    "id": "zSdWYnVfJN5e"
   },
   "source": [
    "By now you know how to write a quantum program in PyQuil and you successfully retrieved the Aspen-8 QPU. It's time to run some code on it! For the purpose of this tutorial we will have to use a simulated version of the Aspen-8 processor:"
   ]
  },
  {
   "cell_type": "code",
   "execution_count": 19,
   "metadata": {
    "colab": {},
    "colab_type": "code",
    "id": "w64AI4VCJPLr"
   },
   "outputs": [],
   "source": [
    "from pyquil.api import QVMCompiler\n",
    "\n",
    "aspen8 = get_qc('Aspen-8', as_qvm=True)"
   ]
  },
  {
   "cell_type": "markdown",
   "metadata": {
    "colab_type": "text",
    "id": "fMsHYGd0hvFA"
   },
   "source": [
    "#### Exercise 4.0:\n",
    "\n",
    "Write the following circuit as a quantum program:\n",
    "\n",
    "\n",
    "![](https://i.ibb.co/7pxPTC3/Screenshot-from-2020-06-03-00-56-51.png)\n",
    "\n",
    "Make sure that you don't forget to measure all the qubits at the end (not included in the diagram above)."
   ]
  },
  {
   "cell_type": "code",
   "execution_count": 22,
   "metadata": {
    "colab": {
     "base_uri": "https://localhost:8080/",
     "height": 34
    },
    "colab_type": "code",
    "id": "jOAZOrzud0Eo",
    "outputId": "fcb31e64-bd27-49ed-aba2-ab9d8f161155"
   },
   "outputs": [
    {
     "data": {
      "text/plain": [
       "<pyquil.quil.Program at 0x7f6187fdc550>"
      ]
     },
     "execution_count": 22,
     "metadata": {},
     "output_type": "execute_result"
    }
   ],
   "source": [
    "from pyquil.gates import Y, Z\n",
    "\n",
    "program = Program()\n",
    "ro = program.declare('ro', 'BIT', 3)\n",
    "program.inst(H(0))\n",
    "program.inst(H(1))\n",
    "program.inst(X(2))\n",
    "program.inst(H(2))\n",
    "program.inst(H(1))\n",
    "program.inst(Y(2))\n",
    "program.inst(CNOT(1, 2))\n",
    "program.inst(H(2))\n",
    "program.inst(Z(0))\n",
    "program.inst(H(0))\n",
    "program.inst(H(1))\n",
    "program.inst(X(2))\n",
    "program.inst(MEASURE(0, ro[0]))\n",
    "program.inst(MEASURE(1, ro[1]))\n",
    "program.inst(MEASURE(2, ro[2]))"
   ]
  },
  {
   "cell_type": "markdown",
   "metadata": {
    "colab_type": "text",
    "id": "1ZoMaEl-kLof"
   },
   "source": [
    "#### Exercise 4.1:\n",
    "\n",
    "Try running your new program on the `aspen8` using the `run()` method. Carefully read the error message. What's the problem?"
   ]
  },
  {
   "cell_type": "code",
   "execution_count": 23,
   "metadata": {
    "colab": {
     "base_uri": "https://localhost:8080/",
     "height": 332
    },
    "colab_type": "code",
    "id": "BRDQppoIkUqA",
    "outputId": "b6690fdf-d7d7-42b8-8e9e-28ad618f2e57"
   },
   "outputs": [
    {
     "ename": "TypeError",
     "evalue": "`executable` argument must be a `PyQuilExecutableResponse`. Make sure you have explicitly compiled your program via `qc.compile` or `qc.compiler.native_quil_to_executable(...)` for more fine-grained control. This explicit step is required for running on a QPU.",
     "output_type": "error",
     "traceback": [
      "\u001b[0;31m-----------------------------------------------------------\u001b[0m",
      "\u001b[0;31mTypeError\u001b[0m                 Traceback (most recent call last)",
      "\u001b[0;32m<ipython-input-23-63bdfef1986d>\u001b[0m in \u001b[0;36m<module>\u001b[0;34m\u001b[0m\n\u001b[0;32m----> 1\u001b[0;31m \u001b[0maspen8\u001b[0m\u001b[0;34m.\u001b[0m\u001b[0mrun\u001b[0m\u001b[0;34m(\u001b[0m\u001b[0mprogram\u001b[0m\u001b[0;34m)\u001b[0m\u001b[0;34m\u001b[0m\u001b[0;34m\u001b[0m\u001b[0m\n\u001b[0m",
      "\u001b[0;32m~/.local/lib/python3.7/site-packages/pyquil/api/_error_reporting.py\u001b[0m in \u001b[0;36mwrapper\u001b[0;34m(*args, **kwargs)\u001b[0m\n\u001b[1;32m    249\u001b[0m             \u001b[0mglobal_error_context\u001b[0m\u001b[0;34m.\u001b[0m\u001b[0mlog\u001b[0m\u001b[0;34m[\u001b[0m\u001b[0mkey\u001b[0m\u001b[0;34m]\u001b[0m \u001b[0;34m=\u001b[0m \u001b[0mpre_entry\u001b[0m\u001b[0;34m\u001b[0m\u001b[0;34m\u001b[0m\u001b[0m\n\u001b[1;32m    250\u001b[0m \u001b[0;34m\u001b[0m\u001b[0m\n\u001b[0;32m--> 251\u001b[0;31m         \u001b[0mval\u001b[0m \u001b[0;34m=\u001b[0m \u001b[0mfunc\u001b[0m\u001b[0;34m(\u001b[0m\u001b[0;34m*\u001b[0m\u001b[0margs\u001b[0m\u001b[0;34m,\u001b[0m \u001b[0;34m**\u001b[0m\u001b[0mkwargs\u001b[0m\u001b[0;34m)\u001b[0m\u001b[0;34m\u001b[0m\u001b[0;34m\u001b[0m\u001b[0m\n\u001b[0m\u001b[1;32m    252\u001b[0m \u001b[0;34m\u001b[0m\u001b[0m\n\u001b[1;32m    253\u001b[0m         \u001b[0;31m# poke the return value of that call in\u001b[0m\u001b[0;34m\u001b[0m\u001b[0;34m\u001b[0m\u001b[0;34m\u001b[0m\u001b[0m\n",
      "\u001b[0;32m~/.local/lib/python3.7/site-packages/pyquil/api/_quantum_computer.py\u001b[0m in \u001b[0;36mrun\u001b[0;34m(self, executable, memory_map)\u001b[0m\n\u001b[1;32m    131\u001b[0m         \u001b[0;34m:\u001b[0m\u001b[0;32mreturn\u001b[0m\u001b[0;34m:\u001b[0m \u001b[0mA\u001b[0m \u001b[0mnumpy\u001b[0m \u001b[0marray\u001b[0m \u001b[0mof\u001b[0m \u001b[0mshape\u001b[0m \u001b[0;34m(\u001b[0m\u001b[0mtrials\u001b[0m\u001b[0;34m,\u001b[0m \u001b[0mlen\u001b[0m\u001b[0;34m(\u001b[0m\u001b[0mro\u001b[0m\u001b[0;34m-\u001b[0m\u001b[0mregister\u001b[0m\u001b[0;34m)\u001b[0m\u001b[0;34m)\u001b[0m \u001b[0mthat\u001b[0m \u001b[0mcontains\u001b[0m \u001b[0;36m0\u001b[0m\u001b[0ms\u001b[0m \u001b[0;32mand\u001b[0m \u001b[0;36m1\u001b[0m\u001b[0ms\u001b[0m\u001b[0;34m.\u001b[0m\u001b[0;34m\u001b[0m\u001b[0;34m\u001b[0m\u001b[0m\n\u001b[1;32m    132\u001b[0m         \"\"\"\n\u001b[0;32m--> 133\u001b[0;31m         \u001b[0mself\u001b[0m\u001b[0;34m.\u001b[0m\u001b[0mqam\u001b[0m\u001b[0;34m.\u001b[0m\u001b[0mload\u001b[0m\u001b[0;34m(\u001b[0m\u001b[0mexecutable\u001b[0m\u001b[0;34m)\u001b[0m\u001b[0;34m\u001b[0m\u001b[0;34m\u001b[0m\u001b[0m\n\u001b[0m\u001b[1;32m    134\u001b[0m         \u001b[0;32mif\u001b[0m \u001b[0mmemory_map\u001b[0m\u001b[0;34m:\u001b[0m\u001b[0;34m\u001b[0m\u001b[0;34m\u001b[0m\u001b[0m\n\u001b[1;32m    135\u001b[0m             \u001b[0;32mfor\u001b[0m \u001b[0mregion_name\u001b[0m\u001b[0;34m,\u001b[0m \u001b[0mvalues_list\u001b[0m \u001b[0;32min\u001b[0m \u001b[0mmemory_map\u001b[0m\u001b[0;34m.\u001b[0m\u001b[0mitems\u001b[0m\u001b[0;34m(\u001b[0m\u001b[0;34m)\u001b[0m\u001b[0;34m:\u001b[0m\u001b[0;34m\u001b[0m\u001b[0;34m\u001b[0m\u001b[0m\n",
      "\u001b[0;32m~/.local/lib/python3.7/site-packages/pyquil/api/_error_reporting.py\u001b[0m in \u001b[0;36mwrapper\u001b[0;34m(*args, **kwargs)\u001b[0m\n\u001b[1;32m    249\u001b[0m             \u001b[0mglobal_error_context\u001b[0m\u001b[0;34m.\u001b[0m\u001b[0mlog\u001b[0m\u001b[0;34m[\u001b[0m\u001b[0mkey\u001b[0m\u001b[0;34m]\u001b[0m \u001b[0;34m=\u001b[0m \u001b[0mpre_entry\u001b[0m\u001b[0;34m\u001b[0m\u001b[0;34m\u001b[0m\u001b[0m\n\u001b[1;32m    250\u001b[0m \u001b[0;34m\u001b[0m\u001b[0m\n\u001b[0;32m--> 251\u001b[0;31m         \u001b[0mval\u001b[0m \u001b[0;34m=\u001b[0m \u001b[0mfunc\u001b[0m\u001b[0;34m(\u001b[0m\u001b[0;34m*\u001b[0m\u001b[0margs\u001b[0m\u001b[0;34m,\u001b[0m \u001b[0;34m**\u001b[0m\u001b[0mkwargs\u001b[0m\u001b[0;34m)\u001b[0m\u001b[0;34m\u001b[0m\u001b[0;34m\u001b[0m\u001b[0m\n\u001b[0m\u001b[1;32m    252\u001b[0m \u001b[0;34m\u001b[0m\u001b[0m\n\u001b[1;32m    253\u001b[0m         \u001b[0;31m# poke the return value of that call in\u001b[0m\u001b[0;34m\u001b[0m\u001b[0;34m\u001b[0m\u001b[0;34m\u001b[0m\u001b[0m\n",
      "\u001b[0;32m~/.local/lib/python3.7/site-packages/pyquil/api/_qvm.py\u001b[0m in \u001b[0;36mload\u001b[0;34m(self, executable)\u001b[0m\n\u001b[1;32m    522\u001b[0m             \u001b[0;32melse\u001b[0m\u001b[0;34m:\u001b[0m\u001b[0;34m\u001b[0m\u001b[0;34m\u001b[0m\u001b[0m\n\u001b[1;32m    523\u001b[0m                 raise TypeError(\n\u001b[0;32m--> 524\u001b[0;31m                     \u001b[0;34m\"`executable` argument must be a `PyQuilExecutableResponse`. Make \"\u001b[0m\u001b[0;34m\u001b[0m\u001b[0;34m\u001b[0m\u001b[0m\n\u001b[0m\u001b[1;32m    525\u001b[0m                     \u001b[0;34m\"sure you have explicitly compiled your program via `qc.compile` \"\u001b[0m\u001b[0;34m\u001b[0m\u001b[0;34m\u001b[0m\u001b[0m\n\u001b[1;32m    526\u001b[0m                     \u001b[0;34m\"or `qc.compiler.native_quil_to_executable(...)` for more \"\u001b[0m\u001b[0;34m\u001b[0m\u001b[0;34m\u001b[0m\u001b[0m\n",
      "\u001b[0;31mTypeError\u001b[0m: `executable` argument must be a `PyQuilExecutableResponse`. Make sure you have explicitly compiled your program via `qc.compile` or `qc.compiler.native_quil_to_executable(...)` for more fine-grained control. This explicit step is required for running on a QPU."
     ]
    }
   ],
   "source": [
    "aspen8.run(program)"
   ]
  },
  {
   "cell_type": "markdown",
   "metadata": {
    "colab_type": "text",
    "id": "sDpbRvrckU2E"
   },
   "source": [
    "#### Exercise 4.2:\n",
    "\n",
    "In order to run the program on the Aspen-8 we need to first compile it to the Aspen-8 architecture. This has to do with the fact that the topology (see Exercise 3.0) might not allow certain operations e.g. CNOTs between qubits that are not neighbouring on the quantum processor.\n",
    "\n",
    "Figure out how to compile the quantum program to the Aspen-8 architecture. Then do the following:\n",
    "\n",
    "- print your initial non-compiled program and the compiled program. which one is longer?\n",
    "- run the compiled program on the Aspen-8 simulator and retrieve 100 results"
   ]
  },
  {
   "cell_type": "code",
   "execution_count": 25,
   "metadata": {
    "colab": {
     "base_uri": "https://localhost:8080/",
     "height": 278
    },
    "colab_type": "code",
    "id": "wF-OQIsqkLLN",
    "outputId": "8abaac41-8c8c-451a-c643-0384a4380396"
   },
   "outputs": [
    {
     "name": "stdout",
     "output_type": "stream",
     "text": [
      "Original quantum circuit:\n",
      "DECLARE ro BIT[3]\n",
      "H 0\n",
      "H 1\n",
      "X 2\n",
      "H 2\n",
      "H 1\n",
      "Y 2\n",
      "CNOT 1 2\n",
      "H 2\n",
      "Z 0\n",
      "H 0\n",
      "H 1\n",
      "X 2\n",
      "MEASURE 0 ro[0]\n",
      "MEASURE 1 ro[1]\n",
      "MEASURE 2 ro[2]\n",
      "\n",
      "Compiled quantum circuit:\n",
      "DECLARE ro BIT[3]\n",
      "RX(pi) 33\n",
      "MEASURE 33 ro[0]\n",
      "CZ 31 32\n",
      "RZ(pi/2) 32\n",
      "RX(pi/2) 32\n",
      "RZ(pi/2) 32\n",
      "MEASURE 32 ro[1]\n",
      "RZ(pi) 31\n",
      "RX(pi) 31\n",
      "MEASURE 31 ro[2]\n",
      "HALT\n",
      "\n",
      "|101>: 0.55\n",
      "|111>: 0.45\n"
     ]
    }
   ],
   "source": [
    "compiler_response = aspen8.compile(program)\n",
    "print('Original quantum circuit:')\n",
    "print(program)\n",
    "\n",
    "print('Compiled quantum circuit:')\n",
    "print(compiler_response.program)\n",
    "\n",
    "# get samples\n",
    "bitstrings = np.vstack([aspen8.run(compiler_response) for _ in range(100)])\n",
    "unique_bitstrings, counts = np.unique(bitstrings, axis=0, return_counts=True)\n",
    "for unique_bitstring, count in zip(unique_bitstrings, counts):\n",
    "  unique_bitstring = np.array(map(str, unique_bitstring))\n",
    "  print(f\"|{''.join(unique_bitstring.tolist())}>: {count/sum(counts)}\")"
   ]
  },
  {
   "cell_type": "markdown",
   "metadata": {
    "colab_type": "text",
    "id": "4IRfDMhvkkgv"
   },
   "source": [
    "#### Bonus exercise 4.3:\n",
    "\n",
    "Remove the measurements from the program and plot the wavefunction of the resulting quantum state. Double check your results from the QPU. Do they align?"
   ]
  },
  {
   "cell_type": "code",
   "execution_count": 26,
   "metadata": {
    "colab": {
     "base_uri": "https://localhost:8080/",
     "height": 265
    },
    "colab_type": "code",
    "id": "aXidnUNPkmqn",
    "outputId": "a385db1a-e63d-4f90-e8f6-94d25f3f5400"
   },
   "outputs": [
    {
     "data": {
      "image/png": "[encoded data removed]",
      "text/plain": [
       "<Figure size 432x288 with 1 Axes>"
      ]
     },
     "metadata": {
      "needs_background": "light"
     },
     "output_type": "display_data"
    }
   ],
   "source": [
    "program_without_measurements = program.copy()\n",
    "program_without_measurements.pop()\n",
    "program_without_measurements.pop()\n",
    "program_without_measurements.pop()\n",
    "\n",
    "wavefunction_simulator.wavefunction(program_without_measurements).plot()"
   ]
  },
  {
   "cell_type": "markdown",
   "metadata": {
    "colab_type": "text",
    "id": "N4aRN8LxJNSZ"
   },
   "source": [
    "***\n",
    "## 5. Bonus section: Quantum state preparation"
   ]
  },
  {
   "cell_type": "markdown",
   "metadata": {
    "colab_type": "text",
    "id": "ncTaUCIKEOaF"
   },
   "source": [
    "The goal of quantum state preparation is the ability to generate quantum states with arbitrary amplitude distributions. Formally speaking, given a complex non-zero amplitude vector $\\mathbf{a} \\in \\mathbb{C}^N$ with components $a_i$ find an algorithm that takes the initial state $\\ket{0}^{\\otimes \\log_2 N}$ and outputs the following state:\n",
    "$$\\ket{\\Psi} = \\sum^{N-1}_{i=0} \\frac{a_i}{\\mid \\mathbf{a} \\mid} \\ket{i}$$\n",
    "where $\\ket{i}$ stands for $i$ in its binary representation."
   ]
  },
  {
   "cell_type": "markdown",
   "metadata": {
    "colab_type": "text",
    "id": "r-oVT0brEOaH"
   },
   "source": [
    "#### Exercise 5.0:\n",
    "Design and implement a quantum circuit that initializes the following quantum state:\n",
    "\n",
    "$$ \\ket{\\Psi} = \\frac{-i}{2} \\, \\ket{00} - \\frac{i}{2} \\, \\ket{01} + \\frac{i}{2} \\, \\ket{10} + \\frac{i}{2} \\,\\ket{11} $$\n",
    "\n",
    "<a title=\"Use pyQuil's wavefunction functionality to print the prepared quantum state.\">Hint.</a>"
   ]
  },
  {
   "cell_type": "code",
   "execution_count": 27,
   "metadata": {
    "colab": {
     "base_uri": "https://localhost:8080/",
     "height": 34
    },
    "colab_type": "code",
    "id": "wFMleGIFEOaI",
    "outputId": "2eefb891-9524-4b2d-d1c5-0efa554b40e2"
   },
   "outputs": [
    {
     "name": "stdout",
     "output_type": "stream",
     "text": [
      "-0.5j|00> + -0.5j|01> + 0.5j|10> + 0.5j|11>\n"
     ]
    }
   ],
   "source": [
    "from pyquil.gates import H, Y\n",
    "from pyquil.quil import Program\n",
    "\n",
    "p = Program()\n",
    "\n",
    "# TODO: initialize the quantum state with quantum gates\n",
    "p.inst(H(0), H(1), Y(1))\n",
    "\n",
    "print(wavefunction_simulator.wavefunction(p))"
   ]
  },
  {
   "cell_type": "markdown",
   "metadata": {
    "colab_type": "text",
    "id": "Ca4Oc_4vEOae"
   },
   "source": [
    "***\n",
    "## 6. Bonus section: Rigetti's Grove algorithms library"
   ]
  },
  {
   "cell_type": "markdown",
   "metadata": {
    "colab_type": "text",
    "id": "C-U3b1t5EOaf"
   },
   "source": [
    "There is several algorithms for quantum state preparation in the literature. For example, see [1](https://arxiv.org/pdf/1706.02721.pdf), [2](https://journals.aps.org/pra/abstract/10.1103/PhysRevA.73.012307), [3](https://journals.aps.org/prl/abstract/10.1103/PhysRevLett.87.067901), [4](https://arxiv.org/abs/quant-ph/0208112) and [5](https://link.springer.com/article/10.1023/A:1021695125245). You should definitely read them at some point since they offer great insight into the difficulties involved with quantum state preparation. As you will see, each of these algorithms comes with it tradeoffs and you will eventually figure out which one fits your needs. Also keep in mind that near-term quantum computers limit the number of quantum gate operations you can perform due to decoherence (also called **quantum circuit depth**). Most of the above algorithms will have extensive resource requirements to ensure generality which will probably force you to do manual state preparation in order to ensure maximum efficiency."
   ]
  },
  {
   "cell_type": "markdown",
   "metadata": {
    "colab_type": "text",
    "id": "0X0IUPXzEOak"
   },
   "source": [
    "At this point, we need to install [Grove](https://github.com/rigetticomputing/grove) - a Python library with plenty of quantum algorithms implemented in [pyQuil](https://github.com/rigetticomputing/pyquil). I highly recommend you to check out the Grove documentation since it is a great resource to learn about the individual quantum algorithms and their implementations!"
   ]
  },
  {
   "cell_type": "code",
   "execution_count": 28,
   "metadata": {
    "colab": {
     "base_uri": "https://localhost:8080/",
     "height": 645
    },
    "colab_type": "code",
    "id": "EJ20QRytEOap",
    "outputId": "66ddbe1a-d514-4e4c-8e41-2195f7fb80db"
   },
   "outputs": [
    {
     "name": "stdout",
     "output_type": "stream",
     "text": [
      "Looking in indexes: https://pypi.org/simple, https://pypi.proteinqure.com\n",
      "Collecting git+https://github.com/rigetticomputing/grove\n",
      "  Cloning https://github.com/rigetticomputing/grove to /tmp/pip-req-build-klbogswn\n",
      "  Running command git clone -q https://github.com/rigetticomputing/grove /tmp/pip-req-build-klbogswn\n",
      "Requirement already satisfied: numpy in /home/markf94/.local/lib/python3.7/site-packages (from quantum-grove==2.0.0b0) (1.18.1)\n",
      "Requirement already satisfied: scipy in /home/markf94/.local/lib/python3.7/site-packages (from quantum-grove==2.0.0b0) (1.4.1)\n",
      "Requirement already satisfied: pyquil>=2.0.0 in /home/markf94/.local/lib/python3.7/site-packages (from quantum-grove==2.0.0b0) (2.19.0)\n",
      "Requirement already satisfied: funcsigs in /usr/local/lib/python3.7/site-packages/funcsigs-1.0.2-py3.7.egg (from quantum-grove==2.0.0b0) (1.0.2)\n",
      "Requirement already satisfied: mock in /usr/local/lib/python3.7/site-packages/mock-2.0.0-py3.7.egg (from quantum-grove==2.0.0b0) (2.0.0)\n",
      "Requirement already satisfied: networkx in /home/markf94/.local/lib/python3.7/site-packages (from quantum-grove==2.0.0b0) (2.1)\n",
      "Requirement already satisfied: matplotlib in /home/markf94/.local/lib/python3.7/site-packages (from quantum-grove==2.0.0b0) (3.1.2)\n",
      "Requirement already satisfied: immutables==0.6 in /usr/local/lib/python3.7/site-packages/immutables-0.6-py3.7-linux-x86_64.egg (from pyquil>=2.0.0->quantum-grove==2.0.0b0) (0.6)\n",
      "Requirement already satisfied: requests in /home/markf94/.local/lib/python3.7/site-packages (from pyquil>=2.0.0->quantum-grove==2.0.0b0) (2.23.0)\n",
      "Requirement already satisfied: antlr4-python3-runtime<4.8,>=4.7.2 in /home/markf94/.local/lib/python3.7/site-packages (from pyquil>=2.0.0->quantum-grove==2.0.0b0) (4.7.2)\n",
      "Requirement already satisfied: rpcq>=3.0.0 in /home/markf94/.local/lib/python3.7/site-packages (from pyquil>=2.0.0->quantum-grove==2.0.0b0) (3.3.0)\n",
      "Requirement already satisfied: pbr>=0.11 in /usr/local/lib/python3.7/site-packages/pbr-5.0.0-py3.7.egg (from mock->quantum-grove==2.0.0b0) (5.0.0)\n",
      "Requirement already satisfied: six>=1.9 in /home/markf94/.local/lib/python3.7/site-packages (from mock->quantum-grove==2.0.0b0) (1.14.0)\n",
      "Requirement already satisfied: decorator>=4.1.0 in /usr/lib/python3.7/site-packages (from networkx->quantum-grove==2.0.0b0) (4.4.0)\n",
      "Requirement already satisfied: pyparsing!=2.0.4,!=2.1.2,!=2.1.6,>=2.0.1 in /usr/local/lib/python3.7/site-packages/pyparsing-2.2.2-py3.7.egg (from matplotlib->quantum-grove==2.0.0b0) (2.2.2)\n",
      "Requirement already satisfied: cycler>=0.10 in /usr/local/lib/python3.7/site-packages/cycler-0.10.0-py3.7.egg (from matplotlib->quantum-grove==2.0.0b0) (0.10.0)\n",
      "Requirement already satisfied: python-dateutil>=2.1 in /home/markf94/.local/lib/python3.7/site-packages (from matplotlib->quantum-grove==2.0.0b0) (2.8.0)\n",
      "Requirement already satisfied: kiwisolver>=1.0.1 in /usr/local/lib/python3.7/site-packages/kiwisolver-1.0.1-py3.7-linux-x86_64.egg (from matplotlib->quantum-grove==2.0.0b0) (1.0.1)\n",
      "Requirement already satisfied: chardet<4,>=3.0.2 in /home/markf94/.local/lib/python3.7/site-packages (from requests->pyquil>=2.0.0->quantum-grove==2.0.0b0) (3.0.4)\n",
      "Requirement already satisfied: urllib3!=1.25.0,!=1.25.1,<1.26,>=1.21.1 in /home/markf94/.local/lib/python3.7/site-packages (from requests->pyquil>=2.0.0->quantum-grove==2.0.0b0) (1.25.8)\n",
      "Requirement already satisfied: certifi>=2017.4.17 in /home/markf94/.local/lib/python3.7/site-packages (from requests->pyquil>=2.0.0->quantum-grove==2.0.0b0) (2019.11.28)\n",
      "Requirement already satisfied: idna<3,>=2.5 in /home/markf94/.local/lib/python3.7/site-packages (from requests->pyquil>=2.0.0->quantum-grove==2.0.0b0) (2.9)\n",
      "Requirement already satisfied: ruamel.yaml in /home/markf94/.local/lib/python3.7/site-packages (from rpcq>=3.0.0->pyquil>=2.0.0->quantum-grove==2.0.0b0) (0.16.5)\n",
      "Requirement already satisfied: pyzmq>=17 in /usr/local/lib/python3.7/site-packages/pyzmq-17.1.2-py3.7-linux-x86_64.egg (from rpcq>=3.0.0->pyquil>=2.0.0->quantum-grove==2.0.0b0) (17.1.2)\n",
      "Requirement already satisfied: msgpack<1.0,>=0.6 in /usr/lib64/python3.7/site-packages (from rpcq>=3.0.0->pyquil>=2.0.0->quantum-grove==2.0.0b0) (0.6.1)\n",
      "Requirement already satisfied: python-rapidjson in /usr/local/lib/python3.7/site-packages/python_rapidjson-0.6.3-py3.7-linux-x86_64.egg (from rpcq>=3.0.0->pyquil>=2.0.0->quantum-grove==2.0.0b0) (0.6.3)\n",
      "Requirement already satisfied: setuptools in /home/markf94/.local/lib/python3.7/site-packages (from kiwisolver>=1.0.1->matplotlib->quantum-grove==2.0.0b0) (46.1.3)\n",
      "Requirement already satisfied: ruamel.yaml.clib>=0.1.2; platform_python_implementation == \"CPython\" and python_version < \"3.8\" in /home/markf94/.local/lib/python3.7/site-packages (from ruamel.yaml->rpcq>=3.0.0->pyquil>=2.0.0->quantum-grove==2.0.0b0) (0.2.0)\n",
      "Building wheels for collected packages: quantum-grove\n",
      "  Building wheel for quantum-grove (setup.py) ... \u001b[?25ldone\n",
      "\u001b[?25h  Stored in directory: /tmp/pip-ephem-wheel-cache-hxghpwce/wheels/c4/4c/d0/aeba3b8fa052232bed7758ab80e74ec5252bd339c7ae5f8111\n",
      "Successfully built quantum-grove\n",
      "Installing collected packages: quantum-grove\n",
      "  Found existing installation: quantum-grove 1.7.0\n",
      "    Uninstalling quantum-grove-1.7.0:\n",
      "\u001b[31mERROR: Could not install packages due to an EnvironmentError: [Errno 13] Permission denied: '/usr/local/lib/python3.7/site-packages/quantum_grove-1.7.0-py3.7.egg'\n",
      "Consider using the `--user` option or check the permissions.\n",
      "\u001b[0m\n"
     ]
    }
   ],
   "source": [
    "!pip install git+https://github.com/rigetticomputing/grove"
   ]
  },
  {
   "cell_type": "markdown",
   "metadata": {
    "colab_type": "text",
    "id": "luSD7WQrEOav"
   },
   "source": [
    "#### Exercise 6.0:\n",
    "Use Grove's arbitrary state generation algorithm to generate the circuit for the quantum state in Exercise 5.0!"
   ]
  },
  {
   "cell_type": "code",
   "execution_count": 29,
   "metadata": {
    "colab": {
     "base_uri": "https://localhost:8080/",
     "height": 278
    },
    "colab_type": "code",
    "id": "amn2t1-kEOaw",
    "outputId": "7e2bd52e-2b2d-432a-aa8c-41394585a26b"
   },
   "outputs": [
    {
     "name": "stdout",
     "output_type": "stream",
     "text": [
      "Generated wavefunction for exercise 3.0: \n",
      "-0.5j|00> + -0.5j|01> + 0.5j|10> + 0.5j|11> \n",
      "\n",
      "Quantum circuit used to generate the state: \n",
      "RZ(0) 0\n",
      "PHASE(0) 0\n",
      "H 0\n",
      "H 1\n",
      "RZ(pi) 0\n",
      "SWAP 0 1\n",
      "CNOT 1 0\n",
      "CNOT 1 0\n",
      "CNOT 1 0\n",
      "CNOT 1 0\n",
      "\n"
     ]
    }
   ],
   "source": [
    "# TODO: Use Grove to generate circuits\n",
    "from grove.alpha.arbitrary_state.arbitrary_state import create_arbitrary_state\n",
    "\n",
    "# generating circuit for quantum state from exercise 3.0\n",
    "amplitude_vector = [-1j/2, -1j/2, 1j/2, 1j/2]\n",
    "p = create_arbitrary_state(amplitude_vector)\n",
    "print(f'Generated wavefunction for exercise 3.0: \\n{wavefunction_simulator.wavefunction(p)} \\n')\n",
    "print(f'Quantum circuit used to generate the state: \\n{p}')"
   ]
  },
  {
   "cell_type": "markdown",
   "metadata": {
    "colab_type": "text",
    "id": "aeTM2NRQEOa7"
   },
   "source": [
    "#### Exercise 6.1:\n",
    "Print the generated circuit in Exercise 6.0 and compare it with the circuit that you designed by hand in exercise 5.0. Were you doing better or worse in terms of quantum circuit depth?"
   ]
  }
 ],
 "metadata": {
  "colab": {
   "include_colab_link": true,
   "name": "solutions_tutorial_II_quantum_programming_SDSS2020.ipynb",
   "provenance": []
  },
  "kernelspec": {
   "display_name": "Python 3",
   "language": "python",
   "name": "python3"
  },
  "language_info": {
   "codemirror_mode": {
    "name": "ipython",
    "version": 3
   },
   "file_extension": ".py",
   "mimetype": "text/x-python",
   "name": "python",
   "nbconvert_exporter": "python",
   "pygments_lexer": "ipython3",
   "version": "3.7.5"
  }
 },
 "nbformat": 4,
 "nbformat_minor": 1
}
