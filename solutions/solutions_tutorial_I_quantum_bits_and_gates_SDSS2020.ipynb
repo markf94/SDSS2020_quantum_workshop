{
  "nbformat": 4,
  "nbformat_minor": 0,
  "metadata": {
    "kernelspec": {
      "display_name": "Python 3",
      "language": "python",
      "name": "python3"
    },
    "language_info": {
      "codemirror_mode": {
        "name": "ipython",
        "version": 3
      },
      "file_extension": ".py",
      "mimetype": "text/x-python",
      "name": "python",
      "nbconvert_exporter": "python",
      "pygments_lexer": "ipython3",
      "version": "3.7.0"
    },
    "colab": {
      "name": "solutions_tutorial_I_quantum_bits_and_gates_SDSS2020.ipynb",
      "provenance": [],
      "collapsed_sections": [],
      "include_colab_link": true
    }
  },
  "cells": [
    {
      "cell_type": "markdown",
      "metadata": {
        "id": "view-in-github",
        "colab_type": "text"
      },
      "source": [
        "<a href=\"https://colab.research.google.com/github/markf94/SDSS2020_quantum_workshop/blob/master/solutions/solutions_tutorial_I_quantum_bits_and_gates_SDSS2020.ipynb\" target=\"_parent\"><img src=\"https://colab.research.google.com/assets/colab-badge.svg\" alt=\"Open In Colab\"/></a>"
      ]
    },
    {
      "cell_type": "markdown",
      "metadata": {
        "id": "BKz9qa2pC-uA",
        "colab_type": "text"
      },
      "source": [
        "## Tutorial 1: Quantum bits & gates with Quil and PyQuil\n",
        "\n",
        "In this 30min tutorial, you will learn:\n",
        "* _How to initialize and manipulate a qubit_\n",
        "* _How to construct, run and measure simple quantum circuits using the Quil language_\n",
        "* _What the X, MEASURE, H and CNOT operations do_\n",
        "\n",
        "This tutorial is all about [Quil](https://github.com/rigetti/quil) which is the quantum instruction language used by [Rigetti](https://www.rigetti.com/)."
      ]
    },
    {
      "cell_type": "markdown",
      "metadata": {
        "id": "W8bdRciPlvn0",
        "colab_type": "text"
      },
      "source": [
        "First, we need to retrieve the IP address of this Google Colab notebook such that we can authenticate it with the quantum simulator & compiler backend. **PLEASE, send this IP address to your instructor (Mark) such that he can whitelist this IP on the server.**"
      ]
    },
    {
      "cell_type": "code",
      "metadata": {
        "id": "QDFbKPAdlwrs",
        "colab_type": "code",
        "outputId": "43b66720-c33f-4aa9-e734-888ee7d3a202",
        "colab": {
          "base_uri": "https://localhost:8080/",
          "height": 34
        }
      },
      "source": [
        "!curl ifconfig.me"
      ],
      "execution_count": 0,
      "outputs": [
        {
          "output_type": "stream",
          "text": [
            "104.154.45.47"
          ],
          "name": "stdout"
        }
      ]
    },
    {
      "cell_type": "markdown",
      "metadata": {
        "id": "WwEeIZQEl5Gu",
        "colab_type": "text"
      },
      "source": [
        "Next, we need to make sure that the `pyquil` library is installed."
      ]
    },
    {
      "cell_type": "code",
      "metadata": {
        "id": "nkl1PusnC-uE",
        "colab_type": "code",
        "outputId": "7b9fb628-57ce-43a6-91d0-0526bbb9dd4d",
        "colab": {
          "base_uri": "https://localhost:8080/",
          "height": 1000
        }
      },
      "source": [
        "%matplotlib inline\n",
        "!pip install pyquil matplotlib"
      ],
      "execution_count": 0,
      "outputs": [
        {
          "output_type": "stream",
          "text": [
            "Collecting pyquil\n",
            "\u001b[?25l  Downloading https://files.pythonhosted.org/packages/de/96/f579ccac2e294481db9fffd447514321602091e022e5af36b0c43d38563b/pyquil-2.19.0.tar.gz (206kB)\n",
            "\r\u001b[K     |█▋                              | 10kB 18.2MB/s eta 0:00:01\r\u001b[K     |███▏                            | 20kB 2.2MB/s eta 0:00:01\r\u001b[K     |████▊                           | 30kB 2.8MB/s eta 0:00:01\r\u001b[K     |██████▍                         | 40kB 3.1MB/s eta 0:00:01\r\u001b[K     |████████                        | 51kB 2.5MB/s eta 0:00:01\r\u001b[K     |█████████▌                      | 61kB 2.8MB/s eta 0:00:01\r\u001b[K     |███████████▏                    | 71kB 3.0MB/s eta 0:00:01\r\u001b[K     |████████████▊                   | 81kB 3.4MB/s eta 0:00:01\r\u001b[K     |██████████████▎                 | 92kB 3.5MB/s eta 0:00:01\r\u001b[K     |███████████████▉                | 102kB 3.4MB/s eta 0:00:01\r\u001b[K     |█████████████████▌              | 112kB 3.4MB/s eta 0:00:01\r\u001b[K     |███████████████████             | 122kB 3.4MB/s eta 0:00:01\r\u001b[K     |████████████████████▋           | 133kB 3.4MB/s eta 0:00:01\r\u001b[K     |██████████████████████▎         | 143kB 3.4MB/s eta 0:00:01\r\u001b[K     |███████████████████████▉        | 153kB 3.4MB/s eta 0:00:01\r\u001b[K     |█████████████████████████▍      | 163kB 3.4MB/s eta 0:00:01\r\u001b[K     |███████████████████████████     | 174kB 3.4MB/s eta 0:00:01\r\u001b[K     |████████████████████████████▋   | 184kB 3.4MB/s eta 0:00:01\r\u001b[K     |██████████████████████████████▏ | 194kB 3.4MB/s eta 0:00:01\r\u001b[K     |███████████████████████████████▊| 204kB 3.4MB/s eta 0:00:01\r\u001b[K     |████████████████████████████████| 215kB 3.4MB/s \n",
            "\u001b[?25h  Installing build dependencies ... \u001b[?25l\u001b[?25hdone\n",
            "  Getting requirements to build wheel ... \u001b[?25l\u001b[?25hdone\n",
            "    Preparing wheel metadata ... \u001b[?25l\u001b[?25hdone\n",
            "Requirement already satisfied: matplotlib in /usr/local/lib/python3.6/dist-packages (3.2.1)\n",
            "Requirement already satisfied: requests in /usr/local/lib/python3.6/dist-packages (from pyquil) (2.23.0)\n",
            "Collecting immutables==0.6\n",
            "\u001b[?25l  Downloading https://files.pythonhosted.org/packages/93/85/14400a6cadf89d9cb369b3b7013baa766ea2a9fabe50d7a711ed8a6cc5d9/immutables-0.6-cp36-cp36m-manylinux1_x86_64.whl (70kB)\n",
            "\u001b[K     |████████████████████████████████| 71kB 5.6MB/s \n",
            "\u001b[?25hRequirement already satisfied: networkx>=2.0.0 in /usr/local/lib/python3.6/dist-packages (from pyquil) (2.4)\n",
            "Requirement already satisfied: numpy in /usr/local/lib/python3.6/dist-packages (from pyquil) (1.18.4)\n",
            "Collecting rpcq>=3.0.0\n",
            "\u001b[?25l  Downloading https://files.pythonhosted.org/packages/47/4f/5c4efa03839fb6692c840c058cffe65cd4e459dc5d80e926504fc5b903e7/rpcq-3.3.0.tar.gz (42kB)\n",
            "\u001b[K     |████████████████████████████████| 51kB 4.9MB/s \n",
            "\u001b[?25hCollecting antlr4-python3-runtime<4.8,>=4.7.2\n",
            "\u001b[?25l  Downloading https://files.pythonhosted.org/packages/29/14/8ac135ec7cc9db3f768e2d032776718c6b23f74e63543f0974b4873500b2/antlr4-python3-runtime-4.7.2.tar.gz (112kB)\n",
            "\u001b[K     |████████████████████████████████| 112kB 10.4MB/s \n",
            "\u001b[?25hRequirement already satisfied: python-dateutil>=2.1 in /usr/local/lib/python3.6/dist-packages (from matplotlib) (2.8.1)\n",
            "Requirement already satisfied: pyparsing!=2.0.4,!=2.1.2,!=2.1.6,>=2.0.1 in /usr/local/lib/python3.6/dist-packages (from matplotlib) (2.4.7)\n",
            "Requirement already satisfied: cycler>=0.10 in /usr/local/lib/python3.6/dist-packages (from matplotlib) (0.10.0)\n",
            "Requirement already satisfied: kiwisolver>=1.0.1 in /usr/local/lib/python3.6/dist-packages (from matplotlib) (1.2.0)\n",
            "Requirement already satisfied: certifi>=2017.4.17 in /usr/local/lib/python3.6/dist-packages (from requests->pyquil) (2020.4.5.1)\n",
            "Requirement already satisfied: idna<3,>=2.5 in /usr/local/lib/python3.6/dist-packages (from requests->pyquil) (2.9)\n",
            "Requirement already satisfied: urllib3!=1.25.0,!=1.25.1,<1.26,>=1.21.1 in /usr/local/lib/python3.6/dist-packages (from requests->pyquil) (1.24.3)\n",
            "Requirement already satisfied: chardet<4,>=3.0.2 in /usr/local/lib/python3.6/dist-packages (from requests->pyquil) (3.0.4)\n",
            "Requirement already satisfied: decorator>=4.3.0 in /usr/local/lib/python3.6/dist-packages (from networkx>=2.0.0->pyquil) (4.4.2)\n",
            "Collecting msgpack<1.0,>=0.6\n",
            "\u001b[?25l  Downloading https://files.pythonhosted.org/packages/3d/a8/e01fea81691749044a7bfd44536483a296d9c0a7ed4ec8810a229435547c/msgpack-0.6.2-cp36-cp36m-manylinux1_x86_64.whl (249kB)\n",
            "\u001b[K     |████████████████████████████████| 256kB 8.8MB/s \n",
            "\u001b[?25hCollecting python-rapidjson\n",
            "\u001b[?25l  Downloading https://files.pythonhosted.org/packages/9e/cb/085b893850110d4e20ef3624808ccaec0515c07da0400e58bdd3ca73c5e3/python_rapidjson-0.9.1-cp36-cp36m-manylinux2010_x86_64.whl (1.4MB)\n",
            "\u001b[K     |████████████████████████████████| 1.4MB 15.2MB/s \n",
            "\u001b[?25hRequirement already satisfied: pyzmq>=17 in /usr/local/lib/python3.6/dist-packages (from rpcq>=3.0.0->pyquil) (19.0.1)\n",
            "Collecting ruamel.yaml\n",
            "\u001b[?25l  Downloading https://files.pythonhosted.org/packages/a6/92/59af3e38227b9cc14520bf1e59516d99ceca53e3b8448094248171e9432b/ruamel.yaml-0.16.10-py2.py3-none-any.whl (111kB)\n",
            "\u001b[K     |████████████████████████████████| 112kB 25.7MB/s \n",
            "\u001b[?25hRequirement already satisfied: six>=1.5 in /usr/local/lib/python3.6/dist-packages (from python-dateutil>=2.1->matplotlib) (1.12.0)\n",
            "Collecting ruamel.yaml.clib>=0.1.2; platform_python_implementation == \"CPython\" and python_version < \"3.9\"\n",
            "\u001b[?25l  Downloading https://files.pythonhosted.org/packages/53/77/4bcd63f362bcb6c8f4f06253c11f9772f64189bf08cf3f40c5ccbda9e561/ruamel.yaml.clib-0.2.0-cp36-cp36m-manylinux1_x86_64.whl (548kB)\n",
            "\u001b[K     |████████████████████████████████| 552kB 29.6MB/s \n",
            "\u001b[?25hBuilding wheels for collected packages: pyquil\n",
            "  Building wheel for pyquil (PEP 517) ... \u001b[?25l\u001b[?25hdone\n",
            "  Created wheel for pyquil: filename=pyquil-2.19.0-cp36-none-any.whl size=243391 sha256=ca945dd25efc19c02046857bb9b2bb1c85556887818bb49a87e6db952ac094b0\n",
            "  Stored in directory: /root/.cache/pip/wheels/46/44/ef/f9948288424a5d2e76f0260b64fd7cca6ea1bdbdfbe6c111b6\n",
            "Successfully built pyquil\n",
            "Building wheels for collected packages: rpcq, antlr4-python3-runtime\n",
            "  Building wheel for rpcq (setup.py) ... \u001b[?25l\u001b[?25hdone\n",
            "  Created wheel for rpcq: filename=rpcq-3.3.0-cp36-none-any.whl size=45376 sha256=c3647e5d522710d406e4315b4406e37993a8b8a49be33e0ff74cc45d55afa5f4\n",
            "  Stored in directory: /root/.cache/pip/wheels/e7/9c/85/6a4b5159ccaa5c96a427491517d01556384013111b4ea16f7c\n",
            "  Building wheel for antlr4-python3-runtime (setup.py) ... \u001b[?25l\u001b[?25hdone\n",
            "  Created wheel for antlr4-python3-runtime: filename=antlr4_python3_runtime-4.7.2-cp36-none-any.whl size=140951 sha256=b7d29e487de074b4d4ed63462a8390e2b0615c9e381ec727f57d8655d83fc777\n",
            "  Stored in directory: /root/.cache/pip/wheels/03/65/47/b6700d23b7529a49513f7601b4f96174a4fa9efdbec03e7ea3\n",
            "Successfully built rpcq antlr4-python3-runtime\n",
            "Installing collected packages: immutables, msgpack, python-rapidjson, ruamel.yaml.clib, ruamel.yaml, rpcq, antlr4-python3-runtime, pyquil\n",
            "  Found existing installation: msgpack 1.0.0\n",
            "    Uninstalling msgpack-1.0.0:\n",
            "      Successfully uninstalled msgpack-1.0.0\n",
            "Successfully installed antlr4-python3-runtime-4.7.2 immutables-0.6 msgpack-0.6.2 pyquil-2.19.0 python-rapidjson-0.9.1 rpcq-3.3.0 ruamel.yaml-0.16.10 ruamel.yaml.clib-0.2.0\n"
          ],
          "name": "stdout"
        }
      ]
    },
    {
      "cell_type": "markdown",
      "metadata": {
        "id": "IzDi2PIezqjg",
        "colab_type": "text"
      },
      "source": [
        "Don't worry about these two next functions for now. They are making your life a bit easier. You can revisit and study them later."
      ]
    },
    {
      "cell_type": "code",
      "metadata": {
        "id": "xhSFbOxvC-u7",
        "colab_type": "code",
        "colab": {}
      },
      "source": [
        "from pyquil import get_qc, Program\n",
        "from pyquil.api import ForestConnection, WavefunctionSimulator\n",
        "\n",
        "# establishing connection to the simulator backend\n",
        "simulator_ip = '34.224.6.31'\n",
        "connection = ForestConnection(sync_endpoint=f'http://{simulator_ip}:5000', compiler_endpoint=f'tcp://{simulator_ip}:5555')\n",
        "simulator = WavefunctionSimulator(connection=connection)\n",
        "qvm = get_qc('5q-qvm', connection=connection)\n",
        "\n",
        "def execute(quil_program, trials=100, silent=False, raw=False):\n",
        "    \"\"\"\n",
        "    Thin function that takes a low-level Quil program and returns the\n",
        "    resulting probability distribution.\n",
        "    \"\"\"\n",
        "\n",
        "    results = [tuple(qvm.run(Program(quil_program))[0]) for _ in range(trials)]\n",
        "\n",
        "    if not silent:\n",
        "        observed_results = set(results)\n",
        "        for result in sorted(observed_results):\n",
        "            bitstring = ''.join(reversed(list(map(str, result))))\n",
        "            print(f'|{bitstring}> state: {results.count(result)/len(results)} [{results.count(result)}/{len(results)}]')\n",
        "        if raw:\n",
        "            print(f'Results: {results}')\n",
        "\n",
        "def plot(quil_program):\n",
        "    return simulator.wavefunction(Program(quil_program)).plot()    "
      ],
      "execution_count": 0,
      "outputs": []
    },
    {
      "cell_type": "markdown",
      "metadata": {
        "id": "PZwcn5ZIC-vE",
        "colab_type": "text"
      },
      "source": [
        "# Qubit\n",
        "\n",
        "The carrier of information in the quantum computing circuits is the qubit, usually denoted in the Dirac notation as\n",
        "\n",
        "$$\n",
        "\\newcommand{\\ket}[1]{\\left|{#1}\\right\\rangle}\n",
        "\\newcommand{\\bra}[1]{\\left\\langle{#1}\\right|}\n",
        "$$\n",
        "\n",
        "$$ \\ket{\\psi} = \\alpha \\ket{0}  + \\beta \\ket{1} $$ \n",
        "\n",
        "where\n",
        "\n",
        "$$ \\alpha,\\beta \\in \\mathbb{C} $$\n",
        "\n",
        "and\n",
        "\n",
        "$$\n",
        "\\ket{0} = \\begin{bmatrix}\n",
        "    0 \\\\\n",
        "    1 \\\\\n",
        "\\end{bmatrix}, \\,\\,\\, \\ket{1} = \\begin{bmatrix}\n",
        "    1 \\\\\n",
        "    0 \\\\\n",
        "\\end{bmatrix}\n",
        "$$\n",
        "\n",
        "\n",
        "# Quantum gates and measurement\n",
        "\n",
        "Quantum circuits are composed of two fundamental building blocks - quantum gates and the measurement operation. Here we introduce the first two single qubit operations:\n",
        "\n",
        "## X gate\n",
        "\n",
        "X gate serves like a quantum version of the NOT operator - it flips probability coefficients between the |0> and |1> state of the qubit it is applied to.\n",
        "\n",
        "$$\n",
        "X = \n",
        "\\begin{bmatrix}\n",
        "    0 & 1 \\\\\n",
        "    1 & 0 \\\\\n",
        "\\end{bmatrix}\n",
        "$$\n",
        "\n",
        "In a circuit diagram we draw:\n",
        "\n",
        "<img src=https://upload.wikimedia.org/wikipedia/commons/4/43/Qcircuit_X.svg width=\"200\">\n",
        "\n",
        "In the Quil language, we implement X as:\n",
        "\n",
        "```\n",
        "X <qubit>\n",
        "```\n",
        "\n",
        "The statement above applies X gate to qubit `<qubit>` i.e.\n",
        "\n",
        "```\n",
        "X 2\n",
        "```\n",
        "\n",
        "applies the X gate on qubit 2.\n",
        "\n",
        "\n",
        "## Measurement operation\n",
        "\n",
        "To read out the state of the qubit, we *measure* it, which forces it to collapse to one of its basis states.\n",
        "\n",
        "In a circuit diagram we draw:\n",
        "\n",
        "<img src=\"https://upload.wikimedia.org/wikipedia/commons/a/a7/Quantum_circuit_measurement_symbol.png\" width=\"150\">\n",
        "\n",
        "To measure a qubit in Quil, we use a `MEASURE` operation with the following syntax:\n",
        "\n",
        "```\n",
        "MEASURE <qubit> ro[<bit>]\n",
        "```\n",
        "\n",
        "where `<qubit>` is the qubit number, `ro` is the name of the classical register (readout) and `<bit>` is the index of the classical register to store the measurement result in.\n",
        "\n",
        "However, before you can write to a classical `ro` you have to initialize it! In Quil, this usually happens at the **very top of the file**:\n",
        "\n",
        "```\n",
        "DECLARE ro BIT[<num_bits>]\n",
        "```\n",
        "\n",
        "where `num_bits` is the number of classical bits we want in that classical register `ro`."
      ]
    },
    {
      "cell_type": "markdown",
      "metadata": {
        "id": "W-Ya-wNMC-vH",
        "colab_type": "text"
      },
      "source": [
        "#### Exercise 1.1\n",
        "\n",
        "Qubits in the circuits are always initialized to the same state. Conduct an experiment to figure out what the initial state of the qubits in the simulator is."
      ]
    },
    {
      "cell_type": "code",
      "metadata": {
        "id": "KqHaaeQfC-vI",
        "colab_type": "code",
        "outputId": "4215b590-9779-43c0-8164-375ca646efbc",
        "colab": {
          "base_uri": "https://localhost:8080/",
          "height": 34
        }
      },
      "source": [
        "execute(\"\"\"\n",
        "DECLARE ro BIT[1]\n",
        "MEASURE 0 ro[0]\n",
        "\"\"\")"
      ],
      "execution_count": 0,
      "outputs": [
        {
          "output_type": "stream",
          "text": [
            "|0> state: 1.0 [100/100]\n"
          ],
          "name": "stdout"
        }
      ]
    },
    {
      "cell_type": "markdown",
      "metadata": {
        "id": "2mP8_o2HC-vV",
        "colab_type": "text"
      },
      "source": [
        "#### Exercise 1.2\n",
        "\n",
        "Create a quantum circuit that always produces state $\\ket{01}$."
      ]
    },
    {
      "cell_type": "code",
      "metadata": {
        "scrolled": true,
        "id": "_JYSM9dqC-vX",
        "colab_type": "code",
        "outputId": "6737dd00-dcb5-4566-8df8-4fc9b55bf75e",
        "colab": {
          "base_uri": "https://localhost:8080/",
          "height": 34
        }
      },
      "source": [
        "execute(\"\"\"\n",
        "DECLARE ro BIT[2]\n",
        "X 0\n",
        "MEASURE 0 ro[0]\n",
        "MEASURE 1 ro[1]\n",
        "\"\"\")"
      ],
      "execution_count": 0,
      "outputs": [
        {
          "output_type": "stream",
          "text": [
            "|01> state: 1.0 [100/100]\n"
          ],
          "name": "stdout"
        }
      ]
    },
    {
      "cell_type": "markdown",
      "metadata": {
        "id": "l_gwId6c3NRI",
        "colab_type": "text"
      },
      "source": [
        "**Hint:**\n",
        "\n",
        "In quantum computing we count qubits from right to left. This means a quantum state with three qubits is written down like this:\n",
        "\n",
        "$$\\ket{q_2,q_1,q_o}$$\n",
        "\n",
        "If you're curious why this is the case you can check out [bonus exercise X2](https://colab.research.google.com/drive/1_LwrzKKgxliYmp6RICc6a9jG4AFt7BcW?authuser=1#scrollTo=mBD5Gc4ghmfW&line=1&uniqifier=1) if you have time at the end of this tutorial."
      ]
    },
    {
      "cell_type": "markdown",
      "metadata": {
        "id": "Q2Ha5Rw8C-vj",
        "colab_type": "text"
      },
      "source": [
        "## H gate\n",
        "\n",
        "H gate is often used to put basis states into uniform superposition:\n",
        "\n",
        "$$\n",
        "H = \\frac{1}{\\sqrt{2}}\n",
        "\\begin{bmatrix}\n",
        "    1 & 1 \\\\\n",
        "    -1 & 1 \\\\\n",
        "\\end{bmatrix}\n",
        "$$\n",
        "\n",
        "A uniform superposition is a quantum state with equal probability for all bitstrings e.g.\n",
        "\n",
        "$$|\\psi> = \\frac{1}{\\sqrt{2}} \\ket{0} + \\frac{1}{\\sqrt{2}} \\ket{1}$$\n",
        "\n",
        "Similiar to X gate (or any single qubit gate, really), we implement H as:\n",
        "\n",
        "```\n",
        "H <qubit>\n",
        "```"
      ]
    },
    {
      "cell_type": "markdown",
      "metadata": {
        "id": "74643ylGC-vl",
        "colab_type": "text"
      },
      "source": [
        "#### Exercise 1.3\n",
        "\n",
        "Figure out what is the problem with the following circuit and implement a fix."
      ]
    },
    {
      "cell_type": "code",
      "metadata": {
        "id": "b3_rJyWqC-vm",
        "colab_type": "code",
        "outputId": "8e23d279-6d6d-439e-d8b6-541be5b8c109",
        "colab": {
          "base_uri": "https://localhost:8080/",
          "height": 52
        }
      },
      "source": [
        "execute(\"\"\"\n",
        "DECLARE ro BIT[1]\n",
        "H 0\n",
        "MEASURE 0 ro[0]\n",
        "\"\"\")"
      ],
      "execution_count": 0,
      "outputs": [
        {
          "output_type": "stream",
          "text": [
            "|0> state: 0.57 [57/100]\n",
            "|1> state: 0.43 [43/100]\n"
          ],
          "name": "stdout"
        }
      ]
    },
    {
      "cell_type": "markdown",
      "metadata": {
        "id": "GMn0qrHZC-vt",
        "colab_type": "text"
      },
      "source": [
        "#### Exercise 1.4\n",
        "\n",
        "Write a Quil program that creates a uniform superposition over all 2-bit strings:\n",
        "\n",
        "$$|\\psi> = \\frac{1}{2} (\\ket{00} + \\ket{01} + \\ket{10} + \\ket{11})$$"
      ]
    },
    {
      "cell_type": "code",
      "metadata": {
        "id": "UOdi1Sw2C-vv",
        "colab_type": "code",
        "outputId": "00faf42f-2989-4bb1-9ef0-fab929a0b142",
        "colab": {
          "base_uri": "https://localhost:8080/",
          "height": 86
        }
      },
      "source": [
        "execute(\"\"\"\n",
        "DECLARE ro BIT[2]\n",
        "H 0\n",
        "H 1\n",
        "MEASURE 0 ro[0]\n",
        "MEASURE 1 ro[1]\n",
        "\"\"\")"
      ],
      "execution_count": 0,
      "outputs": [
        {
          "output_type": "stream",
          "text": [
            "|00> state: 0.21 [21/100]\n",
            "|10> state: 0.2 [20/100]\n",
            "|01> state: 0.33 [33/100]\n",
            "|11> state: 0.26 [26/100]\n"
          ],
          "name": "stdout"
        }
      ]
    },
    {
      "cell_type": "markdown",
      "metadata": {
        "id": "1gC4cbB3C-v5",
        "colab_type": "text"
      },
      "source": [
        "#### Exercise 1.5\n",
        "\n",
        "Plot a wavefunction of the program above. Why does it look different than the sample distribution? What program should we plot to mirror the sample distribution above?"
      ]
    },
    {
      "cell_type": "code",
      "metadata": {
        "id": "oTb0VmdlC-wI",
        "colab_type": "code",
        "outputId": "7620b384-6b88-4c0a-d18d-9e657dd796db",
        "colab": {
          "base_uri": "https://localhost:8080/",
          "height": 265
        }
      },
      "source": [
        "plot(\"\"\"\n",
        "DECLARE ro BIT[2]\n",
        "H 0\n",
        "H 1\n",
        "MEASURE 0 ro[0]\n",
        "MEASURE 1 ro[1]\n",
        "\"\"\")"
      ],
      "execution_count": 0,
      "outputs": [
        {
          "output_type": "display_data",
          "data": {
            "image/png": "[encoded data removed]",
            "text/plain": [
              "<Figure size 432x288 with 1 Axes>"
            ]
          },
          "metadata": {
            "tags": [],
            "needs_background": "light"
          }
        }
      ]
    },
    {
      "cell_type": "code",
      "metadata": {
        "id": "n1WlIj9WC-v7",
        "colab_type": "code",
        "outputId": "f8e39e82-9d2f-49f0-b8bf-294e4f2a3fbc",
        "colab": {
          "base_uri": "https://localhost:8080/",
          "height": 265
        }
      },
      "source": [
        "plot(\"\"\"\n",
        "H 0\n",
        "H 1\n",
        "\"\"\")"
      ],
      "execution_count": 0,
      "outputs": [
        {
          "output_type": "display_data",
          "data": {
            "image/png": "[encoded data removed]",
            "text/plain": [
              "<Figure size 432x288 with 1 Axes>"
            ]
          },
          "metadata": {
            "tags": [],
            "needs_background": "light"
          }
        }
      ]
    },
    {
      "cell_type": "markdown",
      "metadata": {
        "id": "iu8bZjtGC-wV",
        "colab_type": "text"
      },
      "source": [
        "#### Exercise 1.6\n",
        "\n",
        "Implement a fair quantum 8-sided dice."
      ]
    },
    {
      "cell_type": "code",
      "metadata": {
        "scrolled": true,
        "id": "jBeSFj3sC-wV",
        "colab_type": "code",
        "outputId": "c3dc0eb5-2194-4de3-ddad-82ba8ddf856c",
        "colab": {
          "base_uri": "https://localhost:8080/",
          "height": 156
        }
      },
      "source": [
        "execute(\"\"\"\n",
        "DECLARE ro BIT[3]\n",
        "H 0\n",
        "H 1\n",
        "H 2\n",
        "MEASURE 0 ro[0]\n",
        "MEASURE 1 ro[1]\n",
        "MEASURE 2 ro[2]\n",
        "\"\"\", trials=1000)"
      ],
      "execution_count": 0,
      "outputs": [
        {
          "output_type": "stream",
          "text": [
            "|000> state: 0.13 [130/1000]\n",
            "|100> state: 0.125 [125/1000]\n",
            "|010> state: 0.125 [125/1000]\n",
            "|110> state: 0.139 [139/1000]\n",
            "|001> state: 0.133 [133/1000]\n",
            "|101> state: 0.112 [112/1000]\n",
            "|011> state: 0.11 [110/1000]\n",
            "|111> state: 0.126 [126/1000]\n"
          ],
          "name": "stdout"
        }
      ]
    },
    {
      "cell_type": "markdown",
      "metadata": {
        "id": "79v7Nrh0C-wf",
        "colab_type": "text"
      },
      "source": [
        "\n",
        "## C-NOT gate\n",
        "\n",
        "$CNOT$ gate is the first 2-qubit gate we encounter. This gate applies the NOT operation to the second qubit only if the first qubit (control) is $\\ket{1}$.\n",
        "\n",
        "$$\n",
        "CNOT = \n",
        "\\begin{bmatrix}\n",
        "    1 & 0 & 0 & 0\\\\\n",
        "    0 & 1 & 0 & 0\\\\\n",
        "    0 & 0 & 0 & 1\\\\\n",
        "    0 & 0 & 1 & 0\\\\\n",
        "\\end{bmatrix}\n",
        "$$\n",
        "\n",
        "In a circuit diagram we draw it as\n",
        "\n",
        "<img src=https://i.stack.imgur.com/kHu5I.png width=150>\n",
        "\n",
        "In the Quil language, we implement CNOT as:\n",
        "\n",
        "```\n",
        "CNOT <control_qubit> <qubit>\n",
        "```"
      ]
    },
    {
      "cell_type": "markdown",
      "metadata": {
        "id": "kKBoPPQoC-wh",
        "colab_type": "text"
      },
      "source": [
        "#### Exercise 1.7\n",
        "\n",
        "Implement a circuit with two qubits and a CNOT gate. Test this circuit on initial states $\\ket{00}$, $\\ket{01}$, $\\ket{10}$ and $\\ket{11}$."
      ]
    },
    {
      "cell_type": "code",
      "metadata": {
        "id": "q6uy2ZzeC-wh",
        "colab_type": "code",
        "outputId": "fe2c3cb4-43cd-4039-e4c6-f238da533920",
        "colab": {
          "base_uri": "https://localhost:8080/",
          "height": 52
        }
      },
      "source": [
        "print('Initialized as |00>')\n",
        "execute(\"\"\"\n",
        "DECLARE ro BIT[2]\n",
        "CNOT 0 1\n",
        "MEASURE 0 ro[0]\n",
        "MEASURE 1 ro[1]\n",
        "\"\"\")"
      ],
      "execution_count": 0,
      "outputs": [
        {
          "output_type": "stream",
          "text": [
            "Initialized as |00>\n",
            "|00> state: 1.0 [100/100]\n"
          ],
          "name": "stdout"
        }
      ]
    },
    {
      "cell_type": "code",
      "metadata": {
        "id": "oa13jzhVC-wo",
        "colab_type": "code",
        "outputId": "b3f67166-3e09-45e3-9362-a62d4659b017",
        "colab": {
          "base_uri": "https://localhost:8080/",
          "height": 52
        }
      },
      "source": [
        "print('Initialized as |01>')\n",
        "execute(\"\"\"\n",
        "DECLARE ro BIT[2]\n",
        "X 0\n",
        "CNOT 0 1\n",
        "MEASURE 0 ro[0]\n",
        "MEASURE 1 ro[1]\n",
        "\"\"\")"
      ],
      "execution_count": 0,
      "outputs": [
        {
          "output_type": "stream",
          "text": [
            "Initialized as |01>\n",
            "|11> state: 1.0 [100/100]\n"
          ],
          "name": "stdout"
        }
      ]
    },
    {
      "cell_type": "code",
      "metadata": {
        "colab_type": "code",
        "id": "AJZqDRXb9meq",
        "outputId": "5b85b880-1ef0-442d-d4fb-baa47f57a740",
        "colab": {
          "base_uri": "https://localhost:8080/",
          "height": 52
        }
      },
      "source": [
        "print('Initialized as |10>')\n",
        "execute(\"\"\"\n",
        "DECLARE ro BIT[2]\n",
        "X 1\n",
        "CNOT 0 1\n",
        "MEASURE 0 ro[0]\n",
        "MEASURE 1 ro[1]\n",
        "\"\"\")"
      ],
      "execution_count": 0,
      "outputs": [
        {
          "output_type": "stream",
          "text": [
            "Initialized as |10>\n",
            "|10> state: 1.0 [100/100]\n"
          ],
          "name": "stdout"
        }
      ]
    },
    {
      "cell_type": "code",
      "metadata": {
        "colab_type": "code",
        "id": "zljJmZea9mq7",
        "outputId": "98489405-c661-4f8b-b2dd-29331ea59752",
        "colab": {
          "base_uri": "https://localhost:8080/",
          "height": 52
        }
      },
      "source": [
        "print('Initialized as |11>')\n",
        "execute(\"\"\"\n",
        "DECLARE ro BIT[2]\n",
        "X 0\n",
        "X 1\n",
        "CNOT 0 1\n",
        "MEASURE 0 ro[0]\n",
        "MEASURE 1 ro[1]\n",
        "\"\"\")"
      ],
      "execution_count": 0,
      "outputs": [
        {
          "output_type": "stream",
          "text": [
            "Initialized as |11>\n",
            "|01> state: 1.0 [100/100]\n"
          ],
          "name": "stdout"
        }
      ]
    },
    {
      "cell_type": "markdown",
      "metadata": {
        "id": "0KTbIiF7C-w0",
        "colab_type": "text"
      },
      "source": [
        "#### Exercise 1.8\n",
        "\n",
        "Write a program that constructs the following entangled pair of qubits:\n",
        "\n",
        "$$|\\psi> = \\frac{1}{\\sqrt{2}} \\ket{00} + \\frac{1}{\\sqrt{2}} \\ket{11}$$\n",
        "\n",
        "\n",
        "An entangled pair of qubits always collapses to the same basis state when measured. For example, if you measure qubit 0 in the `0` state then you immediately know that qubit 1 must be in the `0` state too!"
      ]
    },
    {
      "cell_type": "code",
      "metadata": {
        "id": "FcBxWTd7C-w2",
        "colab_type": "code",
        "outputId": "65a2eb21-af21-47d7-8db2-6dbc0cb8f4de",
        "colab": {
          "base_uri": "https://localhost:8080/",
          "height": 52
        }
      },
      "source": [
        "execute(\"\"\"\n",
        "DECLARE ro BIT[2]\n",
        "H 0\n",
        "CNOT 0 1\n",
        "MEASURE 0 ro[0]\n",
        "MEASURE 1 ro[1]\n",
        "\"\"\")"
      ],
      "execution_count": 0,
      "outputs": [
        {
          "output_type": "stream",
          "text": [
            "|00> state: 0.5 [50/100]\n",
            "|11> state: 0.5 [50/100]\n"
          ],
          "name": "stdout"
        }
      ]
    },
    {
      "cell_type": "markdown",
      "metadata": {
        "id": "EwK3oTFTC-w8",
        "colab_type": "text"
      },
      "source": [
        "## Bonus exercises"
      ]
    },
    {
      "cell_type": "markdown",
      "metadata": {
        "id": "UdnV0L67_Tdj",
        "colab_type": "text"
      },
      "source": [
        "#### Bonus Exercise X1:\n",
        "\n",
        "Check out the [documentation page about Quil gates and instructions](http://docs.rigetti.com/en/stable/apidocs/gates.html). Build simple circuits and vary their inputs (flip some qubits at the beginning) to try and understand the following gates:\n",
        "\n",
        "`Y`, `CCNOT` and `SWAP`"
      ]
    },
    {
      "cell_type": "markdown",
      "metadata": {
        "id": "mBD5Gc4ghmfW",
        "colab_type": "text"
      },
      "source": [
        "#### Bonus Exercise X2:\n",
        "Read the paper with the title ['Someone shouts, “$\\ket{01000}$!” Who is excited?'](https://arxiv.org/pdf/1711.02086.pdf) by Rigetti staff member Robert Smith to gain a deeper understanding why we label qubits the reverse way ($\\ket{q_N, ..., q_1, q_0}$ rather than $\\ket{q_0, ..., q_{N-1}, q_N}$)."
      ]
    }
  ]
}