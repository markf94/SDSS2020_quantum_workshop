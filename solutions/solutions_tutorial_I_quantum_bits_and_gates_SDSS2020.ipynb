{
 "cells": [
  {
   "cell_type": "markdown",
   "metadata": {
    "colab_type": "text",
    "id": "view-in-github"
   },
   "source": [
    "<a href=\"https://colab.research.google.com/github/markf94/SDSS2020_quantum_workshop/blob/master/solutions/solutions_tutorial_I_quantum_bits_and_gates_SDSS2020.ipynb\" target=\"_parent\"><img src=\"https://colab.research.google.com/assets/colab-badge.svg\" alt=\"Open In Colab\"/></a>"
   ]
  },
  {
   "cell_type": "markdown",
   "metadata": {
    "colab_type": "text",
    "id": "BKz9qa2pC-uA"
   },
   "source": [
    "## Solutions for tutorial 1: Quantum bits & gates with Quil\n",
    "\n",
    "In this 30min tutorial, you will learn:\n",
    "* _How to initialize and manipulate a qubit_\n",
    "* _How to construct, run and measure simple quantum circuits using the Quil language_\n",
    "* _What the X, MEASURE, H and CNOT operations do_\n",
    "\n",
    "This tutorial is all about [Quil](https://github.com/rigetti/quil) which is the quantum instruction language used by [Rigetti](https://www.rigetti.com/)."
   ]
  },
  {
   "cell_type": "markdown",
   "metadata": {},
   "source": [
    "### IMPORTANT!\n",
    "\n",
    "Make sure that you are running your own local instances of the Rigetti Quantum Virtual Machine (QVM) simulator and the Quilc compiler. Check the `README.md` of this repository to find out how to do this. Otherwise this notebook won't work for you."
   ]
  },
  {
   "cell_type": "markdown",
   "metadata": {
    "colab_type": "text",
    "id": "WwEeIZQEl5Gu"
   },
   "source": [
    "First, we need to make sure that the `pyquil` library is installed."
   ]
  },
  {
   "cell_type": "code",
   "execution_count": 1,
   "metadata": {
    "colab": {
     "base_uri": "https://localhost:8080/",
     "height": 1000
    },
    "colab_type": "code",
    "id": "nkl1PusnC-uE",
    "outputId": "7b9fb628-57ce-43a6-91d0-0526bbb9dd4d"
   },
   "outputs": [
    {
     "name": "stdout",
     "output_type": "stream",
     "text": [
      "Looking in indexes: https://pypi.org/simple, https://pypi.proteinqure.com\n",
      "Requirement already satisfied: pyquil in /home/markf94/.local/lib/python3.7/site-packages (2.19.0)\n",
      "Requirement already satisfied: matplotlib in /home/markf94/.local/lib/python3.7/site-packages (3.1.2)\n",
      "Requirement already satisfied: numpy in /home/markf94/.local/lib/python3.7/site-packages (from pyquil) (1.18.1)\n",
      "Requirement already satisfied: immutables==0.6 in /usr/local/lib/python3.7/site-packages/immutables-0.6-py3.7-linux-x86_64.egg (from pyquil) (0.6)\n",
      "Requirement already satisfied: rpcq>=3.0.0 in /home/markf94/.local/lib/python3.7/site-packages (from pyquil) (3.3.0)\n",
      "Requirement already satisfied: antlr4-python3-runtime<4.8,>=4.7.2 in /home/markf94/.local/lib/python3.7/site-packages (from pyquil) (4.7.2)\n",
      "Requirement already satisfied: requests in /home/markf94/.local/lib/python3.7/site-packages (from pyquil) (2.23.0)\n",
      "Requirement already satisfied: networkx>=2.0.0 in /home/markf94/.local/lib/python3.7/site-packages (from pyquil) (2.1)\n",
      "Requirement already satisfied: python-dateutil>=2.1 in /home/markf94/.local/lib/python3.7/site-packages (from matplotlib) (2.8.0)\n",
      "Requirement already satisfied: cycler>=0.10 in /usr/local/lib/python3.7/site-packages/cycler-0.10.0-py3.7.egg (from matplotlib) (0.10.0)\n",
      "Requirement already satisfied: kiwisolver>=1.0.1 in /usr/local/lib/python3.7/site-packages/kiwisolver-1.0.1-py3.7-linux-x86_64.egg (from matplotlib) (1.0.1)\n",
      "Requirement already satisfied: pyparsing!=2.0.4,!=2.1.2,!=2.1.6,>=2.0.1 in /usr/local/lib/python3.7/site-packages/pyparsing-2.2.2-py3.7.egg (from matplotlib) (2.2.2)\n",
      "Requirement already satisfied: python-rapidjson in /usr/local/lib/python3.7/site-packages/python_rapidjson-0.6.3-py3.7-linux-x86_64.egg (from rpcq>=3.0.0->pyquil) (0.6.3)\n",
      "Requirement already satisfied: msgpack<1.0,>=0.6 in /usr/lib64/python3.7/site-packages (from rpcq>=3.0.0->pyquil) (0.6.1)\n",
      "Requirement already satisfied: pyzmq>=17 in /usr/local/lib/python3.7/site-packages/pyzmq-17.1.2-py3.7-linux-x86_64.egg (from rpcq>=3.0.0->pyquil) (17.1.2)\n",
      "Requirement already satisfied: ruamel.yaml in /home/markf94/.local/lib/python3.7/site-packages (from rpcq>=3.0.0->pyquil) (0.16.5)\n",
      "Requirement already satisfied: urllib3!=1.25.0,!=1.25.1,<1.26,>=1.21.1 in /home/markf94/.local/lib/python3.7/site-packages (from requests->pyquil) (1.25.8)\n",
      "Requirement already satisfied: certifi>=2017.4.17 in /home/markf94/.local/lib/python3.7/site-packages (from requests->pyquil) (2019.11.28)\n",
      "Requirement already satisfied: chardet<4,>=3.0.2 in /home/markf94/.local/lib/python3.7/site-packages (from requests->pyquil) (3.0.4)\n",
      "Requirement already satisfied: idna<3,>=2.5 in /home/markf94/.local/lib/python3.7/site-packages (from requests->pyquil) (2.9)\n",
      "Requirement already satisfied: decorator>=4.1.0 in /usr/lib/python3.7/site-packages (from networkx>=2.0.0->pyquil) (4.4.0)\n",
      "Requirement already satisfied: six>=1.5 in /home/markf94/.local/lib/python3.7/site-packages (from python-dateutil>=2.1->matplotlib) (1.14.0)\n",
      "Requirement already satisfied: setuptools in /home/markf94/.local/lib/python3.7/site-packages (from kiwisolver>=1.0.1->matplotlib) (46.1.3)\n",
      "Requirement already satisfied: ruamel.yaml.clib>=0.1.2; platform_python_implementation == \"CPython\" and python_version < \"3.8\" in /home/markf94/.local/lib/python3.7/site-packages (from ruamel.yaml->rpcq>=3.0.0->pyquil) (0.2.0)\n"
     ]
    }
   ],
   "source": [
    "%matplotlib inline\n",
    "!pip install pyquil matplotlib"
   ]
  },
  {
   "cell_type": "markdown",
   "metadata": {
    "colab_type": "text",
    "id": "IzDi2PIezqjg"
   },
   "source": [
    "Don't worry about these two next functions for now. They are making your life a bit easier. You can revisit and study them later."
   ]
  },
  {
   "cell_type": "code",
   "execution_count": 2,
   "metadata": {
    "colab": {},
    "colab_type": "code",
    "id": "xhSFbOxvC-u7"
   },
   "outputs": [],
   "source": [
    "from pyquil import get_qc, Program\n",
    "from pyquil.api import WavefunctionSimulator\n",
    "\n",
    "simulator = WavefunctionSimulator()\n",
    "qvm = get_qc('5q-qvm')\n",
    "\n",
    "def execute(quil_program, trials=100, silent=False, raw=False):\n",
    "    \"\"\"\n",
    "    Thin function that takes a low-level Quil program and returns the\n",
    "    resulting probability distribution.\n",
    "    \"\"\"\n",
    "\n",
    "    results = [tuple(qvm.run(Program(quil_program))[0]) for _ in range(trials)]\n",
    "\n",
    "    if not silent:\n",
    "        observed_results = set(results)\n",
    "        for result in sorted(observed_results):\n",
    "            bitstring = ''.join(reversed(list(map(str, result))))\n",
    "            print(f'|{bitstring}> state: {results.count(result)/len(results)} [{results.count(result)}/{len(results)}]')\n",
    "        if raw:\n",
    "            print(f'Results: {results}')\n",
    "\n",
    "def plot(quil_program):\n",
    "    return simulator.wavefunction(Program(quil_program)).plot()    "
   ]
  },
  {
   "cell_type": "markdown",
   "metadata": {
    "colab_type": "text",
    "id": "PZwcn5ZIC-vE"
   },
   "source": [
    "# Qubit\n",
    "\n",
    "The carrier of information in the quantum computing circuits is the qubit, usually denoted in the Dirac notation as\n",
    "\n",
    "$$\n",
    "\\newcommand{\\ket}[1]{\\left|{#1}\\right\\rangle}\n",
    "\\newcommand{\\bra}[1]{\\left\\langle{#1}\\right|}\n",
    "$$\n",
    "\n",
    "$$ \\ket{\\psi} = \\alpha \\ket{0}  + \\beta \\ket{1} $$ \n",
    "\n",
    "where\n",
    "\n",
    "$$ \\alpha,\\beta \\in \\mathbb{C} $$\n",
    "\n",
    "and\n",
    "\n",
    "$$\n",
    "\\ket{0} = \\begin{bmatrix}\n",
    "    0 \\\\\n",
    "    1 \\\\\n",
    "\\end{bmatrix}, \\,\\,\\, \\ket{1} = \\begin{bmatrix}\n",
    "    1 \\\\\n",
    "    0 \\\\\n",
    "\\end{bmatrix}\n",
    "$$\n",
    "\n",
    "\n",
    "# Quantum gates and measurement\n",
    "\n",
    "Quantum circuits are composed of two fundamental building blocks - quantum gates and the measurement operation. Here we introduce the first two single qubit operations:\n",
    "\n",
    "## X gate\n",
    "\n",
    "X gate serves like a quantum version of the NOT operator - it flips probability coefficients between the |0> and |1> state of the qubit it is applied to.\n",
    "\n",
    "$$\n",
    "X = \n",
    "\\begin{bmatrix}\n",
    "    0 & 1 \\\\\n",
    "    1 & 0 \\\\\n",
    "\\end{bmatrix}\n",
    "$$\n",
    "\n",
    "In a circuit diagram we draw:\n",
    "\n",
    "<img src=https://upload.wikimedia.org/wikipedia/commons/4/43/Qcircuit_X.svg width=\"200\">\n",
    "\n",
    "In the Quil language, we implement X as:\n",
    "\n",
    "```\n",
    "X <qubit>\n",
    "```\n",
    "\n",
    "The statement above applies X gate to qubit `<qubit>` i.e.\n",
    "\n",
    "```\n",
    "X 2\n",
    "```\n",
    "\n",
    "applies the X gate on qubit 2.\n",
    "\n",
    "\n",
    "## Measurement operation\n",
    "\n",
    "To read out the state of the qubit, we *measure* it, which forces it to collapse to one of its basis states.\n",
    "\n",
    "In a circuit diagram we draw:\n",
    "\n",
    "<img src=\"https://upload.wikimedia.org/wikipedia/commons/a/a7/Quantum_circuit_measurement_symbol.png\" width=\"150\">\n",
    "\n",
    "To measure a qubit in Quil, we use a `MEASURE` operation with the following syntax:\n",
    "\n",
    "```\n",
    "MEASURE <qubit> ro[<bit>]\n",
    "```\n",
    "\n",
    "where `<qubit>` is the qubit number, `ro` is the name of the classical register (readout) and `<bit>` is the index of the classical register to store the measurement result in.\n",
    "\n",
    "However, before you can write to a classical `ro` you have to initialize it! In Quil, this usually happens at the **very top of the file**:\n",
    "\n",
    "```\n",
    "DECLARE ro BIT[<num_bits>]\n",
    "```\n",
    "\n",
    "where `num_bits` is the number of classical bits we want in that classical register `ro`."
   ]
  },
  {
   "cell_type": "markdown",
   "metadata": {
    "colab_type": "text",
    "id": "W-Ya-wNMC-vH"
   },
   "source": [
    "#### Exercise 1.1\n",
    "\n",
    "Qubits in the circuits are always initialized to the same state. Conduct an experiment to figure out what the initial state of the qubits in the simulator is."
   ]
  },
  {
   "cell_type": "code",
   "execution_count": 3,
   "metadata": {
    "colab": {
     "base_uri": "https://localhost:8080/",
     "height": 34
    },
    "colab_type": "code",
    "id": "KqHaaeQfC-vI",
    "outputId": "4215b590-9779-43c0-8164-375ca646efbc"
   },
   "outputs": [
    {
     "name": "stdout",
     "output_type": "stream",
     "text": [
      "|0> state: 1.0 [100/100]\n"
     ]
    }
   ],
   "source": [
    "execute(\"\"\"\n",
    "DECLARE ro BIT[1]\n",
    "MEASURE 0 ro[0]\n",
    "\"\"\")"
   ]
  },
  {
   "cell_type": "markdown",
   "metadata": {
    "colab_type": "text",
    "id": "2mP8_o2HC-vV"
   },
   "source": [
    "#### Exercise 1.2\n",
    "\n",
    "Create a quantum circuit that always produces state $\\ket{01}$."
   ]
  },
  {
   "cell_type": "code",
   "execution_count": 4,
   "metadata": {
    "colab": {
     "base_uri": "https://localhost:8080/",
     "height": 34
    },
    "colab_type": "code",
    "id": "_JYSM9dqC-vX",
    "outputId": "6737dd00-dcb5-4566-8df8-4fc9b55bf75e",
    "scrolled": true
   },
   "outputs": [
    {
     "name": "stdout",
     "output_type": "stream",
     "text": [
      "|01> state: 1.0 [100/100]\n"
     ]
    }
   ],
   "source": [
    "execute(\"\"\"\n",
    "DECLARE ro BIT[2]\n",
    "X 0\n",
    "MEASURE 0 ro[0]\n",
    "MEASURE 1 ro[1]\n",
    "\"\"\")"
   ]
  },
  {
   "cell_type": "markdown",
   "metadata": {
    "colab_type": "text",
    "id": "l_gwId6c3NRI"
   },
   "source": [
    "**Hint:**\n",
    "\n",
    "In quantum computing we count qubits from right to left. This means a quantum state with three qubits is written down like this:\n",
    "\n",
    "$$\\ket{q_2,q_1,q_o}$$\n",
    "\n",
    "If you're curious why this is the case you can check out [bonus exercise X2](https://colab.research.google.com/drive/1_LwrzKKgxliYmp6RICc6a9jG4AFt7BcW?authuser=1#scrollTo=mBD5Gc4ghmfW&line=1&uniqifier=1) if you have time at the end of this tutorial."
   ]
  },
  {
   "cell_type": "markdown",
   "metadata": {
    "colab_type": "text",
    "id": "Q2Ha5Rw8C-vj"
   },
   "source": [
    "## H gate\n",
    "\n",
    "H gate is often used to put basis states into uniform superposition:\n",
    "\n",
    "$$\n",
    "H = \\frac{1}{\\sqrt{2}}\n",
    "\\begin{bmatrix}\n",
    "    1 & 1 \\\\\n",
    "    -1 & 1 \\\\\n",
    "\\end{bmatrix}\n",
    "$$\n",
    "\n",
    "A uniform superposition is a quantum state with equal probability for all bitstrings e.g.\n",
    "\n",
    "$$|\\psi> = \\frac{1}{\\sqrt{2}} \\ket{0} + \\frac{1}{\\sqrt{2}} \\ket{1}$$\n",
    "\n",
    "Similiar to X gate (or any single qubit gate, really), we implement H as:\n",
    "\n",
    "```\n",
    "H <qubit>\n",
    "```"
   ]
  },
  {
   "cell_type": "markdown",
   "metadata": {
    "colab_type": "text",
    "id": "74643ylGC-vl"
   },
   "source": [
    "#### Exercise 1.3\n",
    "\n",
    "Figure out what is the problem with the following circuit and implement a fix."
   ]
  },
  {
   "cell_type": "code",
   "execution_count": 5,
   "metadata": {
    "colab": {
     "base_uri": "https://localhost:8080/",
     "height": 52
    },
    "colab_type": "code",
    "id": "b3_rJyWqC-vm",
    "outputId": "8e23d279-6d6d-439e-d8b6-541be5b8c109"
   },
   "outputs": [
    {
     "name": "stdout",
     "output_type": "stream",
     "text": [
      "|0> state: 0.55 [55/100]\n",
      "|1> state: 0.45 [45/100]\n"
     ]
    }
   ],
   "source": [
    "execute(\"\"\"\n",
    "DECLARE ro BIT[1]\n",
    "H 0\n",
    "MEASURE 0 ro[0]\n",
    "\"\"\")"
   ]
  },
  {
   "cell_type": "markdown",
   "metadata": {
    "colab_type": "text",
    "id": "GMn0qrHZC-vt"
   },
   "source": [
    "#### Exercise 1.4\n",
    "\n",
    "Write a Quil program that creates a uniform superposition over all 2-bit strings:\n",
    "\n",
    "$$|\\psi> = \\frac{1}{2} (\\ket{00} + \\ket{01} + \\ket{10} + \\ket{11})$$"
   ]
  },
  {
   "cell_type": "code",
   "execution_count": 6,
   "metadata": {
    "colab": {
     "base_uri": "https://localhost:8080/",
     "height": 86
    },
    "colab_type": "code",
    "id": "UOdi1Sw2C-vv",
    "outputId": "00faf42f-2989-4bb1-9ef0-fab929a0b142"
   },
   "outputs": [
    {
     "name": "stdout",
     "output_type": "stream",
     "text": [
      "|00> state: 0.23 [23/100]\n",
      "|10> state: 0.24 [24/100]\n",
      "|01> state: 0.18 [18/100]\n",
      "|11> state: 0.35 [35/100]\n"
     ]
    }
   ],
   "source": [
    "execute(\"\"\"\n",
    "DECLARE ro BIT[2]\n",
    "H 0\n",
    "H 1\n",
    "MEASURE 0 ro[0]\n",
    "MEASURE 1 ro[1]\n",
    "\"\"\")"
   ]
  },
  {
   "cell_type": "markdown",
   "metadata": {
    "colab_type": "text",
    "id": "1gC4cbB3C-v5"
   },
   "source": [
    "#### Exercise 1.5\n",
    "\n",
    "Plot a wavefunction of the program above. Why does it look different than the sample distribution? What program should we plot to mirror the sample distribution above?"
   ]
  },
  {
   "cell_type": "code",
   "execution_count": 7,
   "metadata": {
    "colab": {
     "base_uri": "https://localhost:8080/",
     "height": 265
    },
    "colab_type": "code",
    "id": "oTb0VmdlC-wI",
    "outputId": "7620b384-6b88-4c0a-d18d-9e657dd796db"
   },
   "outputs": [
    {
     "data": {
      "image/png": "[encoded data removed]",
      "text/plain": [
       "<Figure size 432x288 with 1 Axes>"
      ]
     },
     "metadata": {
      "needs_background": "light"
     },
     "output_type": "display_data"
    }
   ],
   "source": [
    "plot(\"\"\"\n",
    "DECLARE ro BIT[2]\n",
    "H 0\n",
    "H 1\n",
    "MEASURE 0 ro[0]\n",
    "MEASURE 1 ro[1]\n",
    "\"\"\")"
   ]
  },
  {
   "cell_type": "code",
   "execution_count": 8,
   "metadata": {
    "colab": {
     "base_uri": "https://localhost:8080/",
     "height": 265
    },
    "colab_type": "code",
    "id": "n1WlIj9WC-v7",
    "outputId": "f8e39e82-9d2f-49f0-b8bf-294e4f2a3fbc"
   },
   "outputs": [
    {
     "data": {
      "image/png": "[encoded data removed]",
      "text/plain": [
       "<Figure size 432x288 with 1 Axes>"
      ]
     },
     "metadata": {
      "needs_background": "light"
     },
     "output_type": "display_data"
    }
   ],
   "source": [
    "plot(\"\"\"\n",
    "H 0\n",
    "H 1\n",
    "\"\"\")"
   ]
  },
  {
   "cell_type": "markdown",
   "metadata": {
    "colab_type": "text",
    "id": "iu8bZjtGC-wV"
   },
   "source": [
    "#### Exercise 1.6\n",
    "\n",
    "Implement a fair quantum 8-sided dice."
   ]
  },
  {
   "cell_type": "code",
   "execution_count": 9,
   "metadata": {
    "colab": {
     "base_uri": "https://localhost:8080/",
     "height": 156
    },
    "colab_type": "code",
    "id": "jBeSFj3sC-wV",
    "outputId": "c3dc0eb5-2194-4de3-ddad-82ba8ddf856c",
    "scrolled": true
   },
   "outputs": [
    {
     "name": "stdout",
     "output_type": "stream",
     "text": [
      "|000> state: 0.142 [142/1000]\n",
      "|100> state: 0.14 [140/1000]\n",
      "|010> state: 0.123 [123/1000]\n",
      "|110> state: 0.122 [122/1000]\n",
      "|001> state: 0.103 [103/1000]\n",
      "|101> state: 0.129 [129/1000]\n",
      "|011> state: 0.108 [108/1000]\n",
      "|111> state: 0.133 [133/1000]\n"
     ]
    }
   ],
   "source": [
    "execute(\"\"\"\n",
    "DECLARE ro BIT[3]\n",
    "H 0\n",
    "H 1\n",
    "H 2\n",
    "MEASURE 0 ro[0]\n",
    "MEASURE 1 ro[1]\n",
    "MEASURE 2 ro[2]\n",
    "\"\"\", trials=1000)"
   ]
  },
  {
   "cell_type": "markdown",
   "metadata": {
    "colab_type": "text",
    "id": "79v7Nrh0C-wf"
   },
   "source": [
    "\n",
    "## C-NOT gate\n",
    "\n",
    "$CNOT$ gate is the first 2-qubit gate we encounter. This gate applies the NOT operation to the second qubit only if the first qubit (control) is $\\ket{1}$.\n",
    "\n",
    "$$\n",
    "CNOT = \n",
    "\\begin{bmatrix}\n",
    "    1 & 0 & 0 & 0\\\\\n",
    "    0 & 1 & 0 & 0\\\\\n",
    "    0 & 0 & 0 & 1\\\\\n",
    "    0 & 0 & 1 & 0\\\\\n",
    "\\end{bmatrix}\n",
    "$$\n",
    "\n",
    "In a circuit diagram we draw it as\n",
    "\n",
    "<img src=https://i.stack.imgur.com/kHu5I.png width=150>\n",
    "\n",
    "In the Quil language, we implement CNOT as:\n",
    "\n",
    "```\n",
    "CNOT <control_qubit> <qubit>\n",
    "```"
   ]
  },
  {
   "cell_type": "markdown",
   "metadata": {
    "colab_type": "text",
    "id": "kKBoPPQoC-wh"
   },
   "source": [
    "#### Exercise 1.7\n",
    "\n",
    "Implement a circuit with two qubits and a CNOT gate. Test this circuit on initial states $\\ket{00}$, $\\ket{01}$, $\\ket{10}$ and $\\ket{11}$."
   ]
  },
  {
   "cell_type": "code",
   "execution_count": 10,
   "metadata": {
    "colab": {
     "base_uri": "https://localhost:8080/",
     "height": 52
    },
    "colab_type": "code",
    "id": "q6uy2ZzeC-wh",
    "outputId": "fe2c3cb4-43cd-4039-e4c6-f238da533920"
   },
   "outputs": [
    {
     "name": "stdout",
     "output_type": "stream",
     "text": [
      "Initialized as |00>\n",
      "|00> state: 1.0 [100/100]\n"
     ]
    }
   ],
   "source": [
    "print('Initialized as |00>')\n",
    "execute(\"\"\"\n",
    "DECLARE ro BIT[2]\n",
    "CNOT 0 1\n",
    "MEASURE 0 ro[0]\n",
    "MEASURE 1 ro[1]\n",
    "\"\"\")"
   ]
  },
  {
   "cell_type": "code",
   "execution_count": 11,
   "metadata": {
    "colab": {
     "base_uri": "https://localhost:8080/",
     "height": 52
    },
    "colab_type": "code",
    "id": "oa13jzhVC-wo",
    "outputId": "b3f67166-3e09-45e3-9362-a62d4659b017"
   },
   "outputs": [
    {
     "name": "stdout",
     "output_type": "stream",
     "text": [
      "Initialized as |01>\n",
      "|11> state: 1.0 [100/100]\n"
     ]
    }
   ],
   "source": [
    "print('Initialized as |01>')\n",
    "execute(\"\"\"\n",
    "DECLARE ro BIT[2]\n",
    "X 0\n",
    "CNOT 0 1\n",
    "MEASURE 0 ro[0]\n",
    "MEASURE 1 ro[1]\n",
    "\"\"\")"
   ]
  },
  {
   "cell_type": "code",
   "execution_count": 12,
   "metadata": {
    "colab": {
     "base_uri": "https://localhost:8080/",
     "height": 52
    },
    "colab_type": "code",
    "id": "AJZqDRXb9meq",
    "outputId": "5b85b880-1ef0-442d-d4fb-baa47f57a740"
   },
   "outputs": [
    {
     "name": "stdout",
     "output_type": "stream",
     "text": [
      "Initialized as |10>\n",
      "|10> state: 1.0 [100/100]\n"
     ]
    }
   ],
   "source": [
    "print('Initialized as |10>')\n",
    "execute(\"\"\"\n",
    "DECLARE ro BIT[2]\n",
    "X 1\n",
    "CNOT 0 1\n",
    "MEASURE 0 ro[0]\n",
    "MEASURE 1 ro[1]\n",
    "\"\"\")"
   ]
  },
  {
   "cell_type": "code",
   "execution_count": 13,
   "metadata": {
    "colab": {
     "base_uri": "https://localhost:8080/",
     "height": 52
    },
    "colab_type": "code",
    "id": "zljJmZea9mq7",
    "outputId": "98489405-c661-4f8b-b2dd-29331ea59752"
   },
   "outputs": [
    {
     "name": "stdout",
     "output_type": "stream",
     "text": [
      "Initialized as |11>\n",
      "|01> state: 1.0 [100/100]\n"
     ]
    }
   ],
   "source": [
    "print('Initialized as |11>')\n",
    "execute(\"\"\"\n",
    "DECLARE ro BIT[2]\n",
    "X 0\n",
    "X 1\n",
    "CNOT 0 1\n",
    "MEASURE 0 ro[0]\n",
    "MEASURE 1 ro[1]\n",
    "\"\"\")"
   ]
  },
  {
   "cell_type": "markdown",
   "metadata": {
    "colab_type": "text",
    "id": "0KTbIiF7C-w0"
   },
   "source": [
    "#### Exercise 1.8\n",
    "\n",
    "Write a program that constructs the following entangled pair of qubits:\n",
    "\n",
    "$$|\\psi> = \\frac{1}{\\sqrt{2}} \\ket{00} + \\frac{1}{\\sqrt{2}} \\ket{11}$$\n",
    "\n",
    "\n",
    "An entangled pair of qubits always collapses to the same basis state when measured. For example, if you measure qubit 0 in the `0` state then you immediately know that qubit 1 must be in the `0` state too!"
   ]
  },
  {
   "cell_type": "code",
   "execution_count": 14,
   "metadata": {
    "colab": {
     "base_uri": "https://localhost:8080/",
     "height": 52
    },
    "colab_type": "code",
    "id": "FcBxWTd7C-w2",
    "outputId": "65a2eb21-af21-47d7-8db2-6dbc0cb8f4de"
   },
   "outputs": [
    {
     "name": "stdout",
     "output_type": "stream",
     "text": [
      "|00> state: 0.54 [54/100]\n",
      "|11> state: 0.46 [46/100]\n"
     ]
    }
   ],
   "source": [
    "execute(\"\"\"\n",
    "DECLARE ro BIT[2]\n",
    "H 0\n",
    "CNOT 0 1\n",
    "MEASURE 0 ro[0]\n",
    "MEASURE 1 ro[1]\n",
    "\"\"\")"
   ]
  },
  {
   "cell_type": "markdown",
   "metadata": {
    "colab_type": "text",
    "id": "EwK3oTFTC-w8"
   },
   "source": [
    "## Bonus exercises"
   ]
  },
  {
   "cell_type": "markdown",
   "metadata": {
    "colab_type": "text",
    "id": "UdnV0L67_Tdj"
   },
   "source": [
    "#### Bonus Exercise X1:\n",
    "\n",
    "Check out the [documentation page about Quil gates and instructions](http://docs.rigetti.com/en/stable/apidocs/gates.html). Build simple circuits and vary their inputs (flip some qubits at the beginning) to try and understand the following gates:\n",
    "\n",
    "`Y`, `CCNOT` and `SWAP`"
   ]
  },
  {
   "cell_type": "markdown",
   "metadata": {
    "colab_type": "text",
    "id": "mBD5Gc4ghmfW"
   },
   "source": [
    "#### Bonus Exercise X2:\n",
    "Read the paper with the title ['Someone shouts, “$\\ket{01000}$!” Who is excited?'](https://arxiv.org/pdf/1711.02086.pdf) by Rigetti staff member Robert Smith to gain a deeper understanding why we label qubits the reverse way ($\\ket{q_N, ..., q_1, q_0}$ rather than $\\ket{q_0, ..., q_{N-1}, q_N}$)."
   ]
  }
 ],
 "metadata": {
  "colab": {
   "collapsed_sections": [],
   "include_colab_link": true,
   "name": "solutions_tutorial_I_quantum_bits_and_gates_SDSS2020.ipynb",
   "provenance": []
  },
  "kernelspec": {
   "display_name": "Python 3",
   "language": "python",
   "name": "python3"
  },
  "language_info": {
   "codemirror_mode": {
    "name": "ipython",
    "version": 3
   },
   "file_extension": ".py",
   "mimetype": "text/x-python",
   "name": "python",
   "nbconvert_exporter": "python",
   "pygments_lexer": "ipython3",
   "version": "3.7.5"
  }
 },
 "nbformat": 4,
 "nbformat_minor": 1
}
