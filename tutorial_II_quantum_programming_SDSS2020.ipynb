{
 "cells": [
  {
   "cell_type": "markdown",
   "metadata": {
    "colab_type": "text",
    "id": "view-in-github"
   },
   "source": [
    "<a href=\"https://colab.research.google.com/github/markf94/SDSS2020_quantum_workshop/blob/master/tutorial_II_quantum_programming_SDSS2020.ipynb\" target=\"_parent\"><img src=\"https://colab.research.google.com/assets/colab-badge.svg\" alt=\"Open In Colab\"/></a>"
   ]
  },
  {
   "cell_type": "markdown",
   "metadata": {
    "colab_type": "text",
    "id": "c-63P7sQhmcW"
   },
   "source": [
    "# Tutorial 2: Quantum programming in PyQuil"
   ]
  },
  {
   "cell_type": "markdown",
   "metadata": {
    "colab_type": "text",
    "id": "p35tMk30hmcZ"
   },
   "source": [
    "##### After going through this 1 hour tutorial you will:\n",
    "\n",
    "- be able to use pyQuil to create shallow circuits\n",
    "- have used pyQuil's wavefunction simulator\n",
    "- have used pyQuil's Quantum Virtual Machine\n",
    "- retrieved QPU specifications\n",
    "- compiled a quantum program to the Aspen-8 QPU"
   ]
  },
  {
   "cell_type": "markdown",
   "metadata": {
    "colab_type": "text",
    "id": "VBmS0HSFhmcx"
   },
   "source": [
    "### IMPORTANT!\n",
    "\n",
    "Make sure that you are running your own local instances of the Rigetti Quantum Virtual Machine (QVM) simulator and the Quilc compiler. Check the `README.md` of this repository to find out how to do this. Otherwise this notebook won't work for you."
   ]
  },
  {
   "cell_type": "markdown",
   "metadata": {
    "colab_type": "text",
    "id": "2cFwDDJahmcc"
   },
   "source": [
    "We need to again install pyQuil since we're now in another notebook."
   ]
  },
  {
   "cell_type": "code",
   "execution_count": null,
   "metadata": {
    "colab": {},
    "colab_type": "code",
    "id": "sPMp-tfChmcf"
   },
   "outputs": [],
   "source": [
    "!pip install pyquil"
   ]
  },
  {
   "cell_type": "markdown",
   "metadata": {
    "colab_type": "text",
    "id": "Gbq3f0Rlhmdr"
   },
   "source": [
    "***\n",
    "## 1. PyQuil"
   ]
  },
  {
   "cell_type": "markdown",
   "metadata": {
    "colab_type": "text",
    "id": "LSTGIeNthmds"
   },
   "source": [
    "PyQuil is the Python layer on top of Quil. You can think of it as a high-level abstraction layer on top of the very basic Quil instruction language. This is similar to how we use Python to program classical computers instead of writing code in low-level assembly language.\n"
   ]
  },
  {
   "cell_type": "markdown",
   "metadata": {
    "colab_type": "text",
    "id": "VGOVdozHT4oB"
   },
   "source": [
    "### Exercise 1.0\n",
    "\n",
    "For our first exploration of PyQuil functionality we will use their `WavefunctionSimulator`. Please make sure to read + understand the first two paragraphs of the [documentation](http://docs.rigetti.com/en/stable/wavefunction_simulator.html#basis-ordering).\n",
    "\n",
    "What differentiates the wavefunction simulator from other simulators and/or the QPU?"
   ]
  },
  {
   "cell_type": "code",
   "execution_count": null,
   "metadata": {
    "colab": {},
    "colab_type": "code",
    "id": "4hvI0QM4SRBr"
   },
   "outputs": [],
   "source": [
    "from pyquil.api import WavefunctionSimulator\n",
    "\n",
    "wavefunction_simulator = WavefunctionSimulator()"
   ]
  },
  {
   "cell_type": "markdown",
   "metadata": {
    "colab_type": "text",
    "id": "_RXm1Em6hmdw"
   },
   "source": [
    "#### Exercise 1.1: \n",
    "Using your knowledge from lecture II and [the pyQuil docs](http://docs.rigetti.com/en/stable/basics.html) express the following Quil code as a `Program` in PyQuil:\n",
    "\n",
    "```\n",
    "X 0\n",
    "X 1\n",
    "H 0\n",
    "CNOT 0 1\n",
    "```\n",
    "\n",
    "Run the resulting PyQuil program 10 times with the `run_and_measure()` method of the `WavefunctionSimulator` and inspect the results."
   ]
  },
  {
   "cell_type": "code",
   "execution_count": null,
   "metadata": {
    "colab": {},
    "colab_type": "code",
    "id": "4lNZN1Skhmdz"
   },
   "outputs": [],
   "source": [
    "from pyquil.quil import Program\n",
    "\n",
    "quantum_program = Program()\n",
    "\n",
    "# TODO: write PyQuil code here"
   ]
  },
  {
   "cell_type": "markdown",
   "metadata": {
    "colab_type": "text",
    "id": "4HTL1lRfhmd8"
   },
   "source": [
    "#### Exercise 1.2:\n",
    "\n",
    "pyQuil's Wavefunction has a lot of very helpful functionalities like obtaining probabilities from amplitudes, plotting as well as pretty printing them. \n",
    "\n",
    "Explore pyQuil's wavefunction functionalities. First get the wavefunction of your new `Program` from the previous exercise, then plot and pretty print the probabilities! (Hint: there exists a not-so-well-documented `plot()` method on the `WavefunctionSimulator`)"
   ]
  },
  {
   "cell_type": "code",
   "execution_count": null,
   "metadata": {
    "colab": {},
    "colab_type": "code",
    "id": "Ahish_Lmhmd9"
   },
   "outputs": [],
   "source": [
    "# TODO: Try getting the wavefunction for your quantum program and plot & pretty print the result!\n",
    "\n",
    "wavefunction = wavefunction_simulator.wavefunction(quantum_program)\n",
    "\n",
    "print('Plotting the probabilities:')\n",
    "# TODO: write PyQuil code here\n",
    "\n",
    "print('Pretty printing the wavefunction: \\n')\n",
    "# TODO: write PyQuil code here\n",
    "\n",
    "print('Pretty printing the probabilities: \\n')\n",
    "# TODO: write PyQuil code here"
   ]
  },
  {
   "cell_type": "markdown",
   "metadata": {
    "colab_type": "text",
    "id": "N_PaqLmZhmeE"
   },
   "source": [
    "***\n",
    "## 2. The Quantum Computer object"
   ]
  },
  {
   "cell_type": "markdown",
   "metadata": {
    "colab_type": "text",
    "id": "PBvNX08aVgYM"
   },
   "source": [
    "In the previous section we were using the `WavefunctionSimulator`. However, unfortunately this simulator is highly unrealistic since in reality we're never (!) able to inspect the wavefunction. We only ever get to measure the wavefunction and sample bitstrings from it. In our effort to program a quantum computer we need to abandon the idea of simulating the wavefunction and simulate the actual interaction with the quantum processor."
   ]
  },
  {
   "cell_type": "markdown",
   "metadata": {
    "colab_type": "text",
    "id": "g3-OtKXcV9CW"
   },
   "source": [
    "To do so, we're going to use the `get_qc()` method which allows us to retrieve a more realistic Quantum Virtual Machine (QVM). For our use cases, a simulator with 2 qubits should suffice:"
   ]
  },
  {
   "cell_type": "code",
   "execution_count": null,
   "metadata": {
    "colab": {},
    "colab_type": "code",
    "id": "9vyii4BtVgJ7"
   },
   "outputs": [],
   "source": [
    "from pyquil import get_qc\n",
    "\n",
    "quantum_simulator = get_qc('2q-qvm')"
   ]
  },
  {
   "cell_type": "markdown",
   "metadata": {
    "colab_type": "text",
    "id": "Imm71unOhmeI"
   },
   "source": [
    "#### Exercise 2.0:\n",
    "\n",
    "Simulate your quantum program from section 1 with the new `quantum_simulator` for 10 trials. What's different?"
   ]
  },
  {
   "cell_type": "code",
   "execution_count": null,
   "metadata": {
    "colab": {},
    "colab_type": "code",
    "id": "EuNgiOYWhmeJ"
   },
   "outputs": [],
   "source": [
    "bitstrings = # TODO: write PyQuil code here"
   ]
  },
  {
   "cell_type": "markdown",
   "metadata": {
    "colab_type": "text",
    "id": "8xu9ghDPWmPZ"
   },
   "source": [
    "#### Exercise 2.1:\n",
    "\n",
    "The output in the previous exercise was not very readable. Here's a quick way of converting the output into more familiar bitstrings:"
   ]
  },
  {
   "cell_type": "code",
   "execution_count": null,
   "metadata": {
    "colab": {},
    "colab_type": "code",
    "id": "KKqu0zYlWj59"
   },
   "outputs": [],
   "source": [
    "import numpy as np\n",
    "\n",
    "bitstring_array = np.vstack([bitstrings[q] for q in quantum_simulator.qubits()]).T\n",
    "print(bitstring_array)"
   ]
  },
  {
   "cell_type": "markdown",
   "metadata": {
    "colab_type": "text",
    "id": "yL4qGHCJW_dC"
   },
   "source": [
    "Equipped with this new simulator and the function that converts its output to bitstrings perform the following experiment:\n",
    "\n",
    "Run your quantum program for 1000 trials and compute the probability of each bitstring. Compare it with the plotted wavefunction in Exercise 1.2. What do you observe?\n"
   ]
  },
  {
   "cell_type": "code",
   "execution_count": null,
   "metadata": {
    "colab": {},
    "colab_type": "code",
    "id": "dAKSkAA7W_Gx"
   },
   "outputs": [],
   "source": [
    "# TODO: write PyQuil code here"
   ]
  },
  {
   "cell_type": "markdown",
   "metadata": {
    "colab_type": "text",
    "id": "GCgOW9_BEOaE"
   },
   "source": [
    "***\n",
    "## 3. The Quantum Processing Unit (QPU)"
   ]
  },
  {
   "cell_type": "markdown",
   "metadata": {
    "colab_type": "text",
    "id": "b3hnc-v9aIFT"
   },
   "source": [
    "Moving away from simulators this section will teach you how to interact with the Rigetti *QPU*. First, using the `list_quantum_computers()` function we can retrieve the currently available QPUs:"
   ]
  },
  {
   "cell_type": "code",
   "execution_count": null,
   "metadata": {
    "colab": {},
    "colab_type": "code",
    "id": "6EPSUbEgackD"
   },
   "outputs": [],
   "source": [
    "from pyquil import list_quantum_computers\n",
    "\n",
    "print(list_quantum_computers())"
   ]
  },
  {
   "cell_type": "markdown",
   "metadata": {
    "colab_type": "text",
    "id": "0O-zidj_acZ2"
   },
   "source": [
    "#### Exercise 3.0:\n",
    "\n",
    "Retrieve the topology of the `Aspen-8` QPU and plot it with `networkx.draw()`. What do you observe?"
   ]
  },
  {
   "cell_type": "code",
   "execution_count": null,
   "metadata": {
    "colab": {},
    "colab_type": "code",
    "id": "im5-BJ5HIhOK"
   },
   "outputs": [],
   "source": [
    "import networkx\n",
    "\n",
    "# TODO: write PyQuil code here\n",
    "\n",
    "networkx.draw(qpu_topology, with_labels=True, font_weight='bold')"
   ]
  },
  {
   "cell_type": "markdown",
   "metadata": {
    "colab_type": "text",
    "id": "_ca6iJzqcNFl"
   },
   "source": [
    "#### Exercise 3.1:\n",
    "\n",
    "Current QPU generations are often referred to as Noisy-Intermediate Scale Quantum (NISQ) hardware. This name stems from the fact that the QPUs are suffering from quite a lot of noise and relatively low decoherence times. Try and retrieve the T1 and T2 decoherence times of the Aspen-8 chip! What's the maximum decoherence time in seconds on this chip?"
   ]
  },
  {
   "cell_type": "code",
   "execution_count": null,
   "metadata": {
    "colab": {},
    "colab_type": "code",
    "id": "1eJWi1rycM2w"
   },
   "outputs": [],
   "source": [
    "# TODO: write PyQuil code here"
   ]
  },
  {
   "cell_type": "markdown",
   "metadata": {
    "colab_type": "text",
    "id": "oYyEK7raMPJQ"
   },
   "source": [
    "***\n",
    "## 4. Quantum compilation"
   ]
  },
  {
   "cell_type": "markdown",
   "metadata": {
    "colab_type": "text",
    "id": "zSdWYnVfJN5e"
   },
   "source": [
    "By now you know how to write a quantum program in PyQuil and you successfully retrieved the Aspen-8 QPU. It's time to run some code on it! For the purpose of this tutorial we will have to use a simulated version of the Aspen-8 processor:"
   ]
  },
  {
   "cell_type": "code",
   "execution_count": null,
   "metadata": {
    "colab": {},
    "colab_type": "code",
    "id": "w64AI4VCJPLr"
   },
   "outputs": [],
   "source": [
    "from pyquil.api import QVMCompiler\n",
    "\n",
    "aspen8 = get_qc('Aspen-8', as_qvm=True)"
   ]
  },
  {
   "cell_type": "markdown",
   "metadata": {
    "colab_type": "text",
    "id": "fMsHYGd0hvFA"
   },
   "source": [
    "#### Exercise 4.0:\n",
    "\n",
    "Write the following circuit as a quantum program:\n",
    "\n",
    "\n",
    "![](https://i.ibb.co/7pxPTC3/Screenshot-from-2020-06-03-00-56-51.png)\n",
    "\n",
    "Make sure that you don't forget to measure all the qubits at the end (not included in the diagram above)."
   ]
  },
  {
   "cell_type": "code",
   "execution_count": null,
   "metadata": {
    "colab": {},
    "colab_type": "code",
    "id": "jOAZOrzud0Eo"
   },
   "outputs": [],
   "source": [
    "# TODO: write PyQuil code here"
   ]
  },
  {
   "cell_type": "markdown",
   "metadata": {
    "colab_type": "text",
    "id": "1ZoMaEl-kLof"
   },
   "source": [
    "#### Exercise 4.1:\n",
    "\n",
    "Try running your new program on the `aspen8` using the `run()` method. Carefully read the error message. What's the problem?"
   ]
  },
  {
   "cell_type": "code",
   "execution_count": null,
   "metadata": {
    "colab": {},
    "colab_type": "code",
    "id": "BRDQppoIkUqA"
   },
   "outputs": [],
   "source": [
    "# TODO: write PyQuil code here"
   ]
  },
  {
   "cell_type": "markdown",
   "metadata": {
    "colab_type": "text",
    "id": "sDpbRvrckU2E"
   },
   "source": [
    "#### Exercise 4.2:\n",
    "\n",
    "In order to run the program on the Aspen-8 we need to first compile it to the Aspen-8 architecture. This has to do with the fact that the topology (see Exercise 3.0) might not allow certain operations e.g. CNOTs between qubits that are not neighbouring on the quantum processor.\n",
    "\n",
    "Figure out how to compile the quantum program to the Aspen-8 architecture. Then do the following:\n",
    "\n",
    "- print your initial non-compiled program and the compiled program. which one is longer?\n",
    "- run the compiled program on the Aspen-8 simulator and retrieve 100 results"
   ]
  },
  {
   "cell_type": "code",
   "execution_count": null,
   "metadata": {
    "colab": {},
    "colab_type": "code",
    "id": "wF-OQIsqkLLN"
   },
   "outputs": [],
   "source": [
    "# TODO: write PyQuil code here"
   ]
  },
  {
   "cell_type": "markdown",
   "metadata": {
    "colab_type": "text",
    "id": "4IRfDMhvkkgv"
   },
   "source": [
    "#### Bonus exercise 4.3:\n",
    "\n",
    "Remove the measurements from the program and plot the wavefunction of the resulting quantum state. Double check your results from the QPU. Do they align?"
   ]
  },
  {
   "cell_type": "code",
   "execution_count": null,
   "metadata": {
    "colab": {},
    "colab_type": "code",
    "id": "aXidnUNPkmqn"
   },
   "outputs": [],
   "source": [
    "# TODO: write PyQuil code here"
   ]
  },
  {
   "cell_type": "markdown",
   "metadata": {
    "colab_type": "text",
    "id": "N4aRN8LxJNSZ"
   },
   "source": [
    "***\n",
    "## 5. Bonus section: Quantum state preparation"
   ]
  },
  {
   "cell_type": "markdown",
   "metadata": {
    "colab_type": "text",
    "id": "ncTaUCIKEOaF"
   },
   "source": [
    "The goal of quantum state preparation is the ability to generate quantum states with arbitrary amplitude distributions. Formally speaking, given a complex non-zero amplitude vector $\\mathbf{a} \\in \\mathbb{C}^N$ with components $a_i$ find an algorithm that takes the initial state $\\ket{0}^{\\otimes \\log_2 N}$ and outputs the following state:\n",
    "$$\\ket{\\Psi} = \\sum^{N-1}_{i=0} \\frac{a_i}{\\mid \\mathbf{a} \\mid} \\ket{i}$$\n",
    "where $\\ket{i}$ stands for $i$ in its binary representation."
   ]
  },
  {
   "cell_type": "markdown",
   "metadata": {
    "colab_type": "text",
    "id": "r-oVT0brEOaH"
   },
   "source": [
    "#### Exercise 5.0:\n",
    "Design and implement a quantum circuit that initializes the following quantum state:\n",
    "\n",
    "$$ \\ket{\\Psi} = \\frac{-i}{2} \\, \\ket{00} - \\frac{i}{2} \\, \\ket{01} + \\frac{i}{2} \\, \\ket{10} + \\frac{i}{2} \\,\\ket{11} $$\n",
    "\n",
    "<a title=\"Use pyQuil's wavefunction functionality to print the prepared quantum state.\">Hint.</a>"
   ]
  },
  {
   "cell_type": "code",
   "execution_count": null,
   "metadata": {
    "colab": {},
    "colab_type": "code",
    "id": "wFMleGIFEOaI"
   },
   "outputs": [],
   "source": [
    "# TODO: write PyQuil code here"
   ]
  },
  {
   "cell_type": "markdown",
   "metadata": {
    "colab_type": "text",
    "id": "Ca4Oc_4vEOae"
   },
   "source": [
    "***\n",
    "## 6. Bonus section: Rigetti's Grove algorithms library"
   ]
  },
  {
   "cell_type": "markdown",
   "metadata": {
    "colab_type": "text",
    "id": "C-U3b1t5EOaf"
   },
   "source": [
    "There is several algorithms for quantum state preparation in the literature. For example, see [1](https://arxiv.org/pdf/1706.02721.pdf), [2](https://journals.aps.org/pra/abstract/10.1103/PhysRevA.73.012307), [3](https://journals.aps.org/prl/abstract/10.1103/PhysRevLett.87.067901), [4](https://arxiv.org/abs/quant-ph/0208112) and [5](https://link.springer.com/article/10.1023/A:1021695125245). You should definitely read them at some point since they offer great insight into the difficulties involved with quantum state preparation. As you will see, each of these algorithms comes with it tradeoffs and you will eventually figure out which one fits your needs. Also keep in mind that near-term quantum computers limit the number of quantum gate operations you can perform due to decoherence (also called **quantum circuit depth**). Most of the above algorithms will have extensive resource requirements to ensure generality which will probably force you to do manual state preparation in order to ensure maximum efficiency."
   ]
  },
  {
   "cell_type": "markdown",
   "metadata": {
    "colab_type": "text",
    "id": "0X0IUPXzEOak"
   },
   "source": [
    "At this point, we need to install [Grove](https://github.com/rigetticomputing/grove) - a Python library with plenty of quantum algorithms implemented in [pyQuil](https://github.com/rigetticomputing/pyquil). I highly recommend you to check out the Grove documentation since it is a great resource to learn about the individual quantum algorithms and their implementations!"
   ]
  },
  {
   "cell_type": "code",
   "execution_count": null,
   "metadata": {
    "colab": {},
    "colab_type": "code",
    "id": "EJ20QRytEOap"
   },
   "outputs": [],
   "source": [
    "!pip install git+https://github.com/rigetticomputing/grove"
   ]
  },
  {
   "cell_type": "markdown",
   "metadata": {
    "colab_type": "text",
    "id": "luSD7WQrEOav"
   },
   "source": [
    "#### Exercise 6.0:\n",
    "Use Grove's arbitrary state generation algorithm to generate the circuit for the quantum state in Exercise 5.0!"
   ]
  },
  {
   "cell_type": "code",
   "execution_count": null,
   "metadata": {
    "colab": {},
    "colab_type": "code",
    "id": "amn2t1-kEOaw"
   },
   "outputs": [],
   "source": [
    "# TODO: write PyQuil code here"
   ]
  },
  {
   "cell_type": "markdown",
   "metadata": {
    "colab_type": "text",
    "id": "aeTM2NRQEOa7"
   },
   "source": [
    "#### Exercise 6.1:\n",
    "Print the generated circuit in Exercise 6.0 and compare it with the circuit that you designed by hand in exercise 5.0. Were you doing better or worse in terms of quantum circuit depth?"
   ]
  }
 ],
 "metadata": {
  "colab": {
   "include_colab_link": true,
   "name": "tutorial_II_quantum_programming_SDSS2020.ipynb",
   "provenance": []
  },
  "kernelspec": {
   "display_name": "Python 3",
   "language": "python",
   "name": "python3"
  },
  "language_info": {
   "codemirror_mode": {
    "name": "ipython",
    "version": 3
   },
   "file_extension": ".py",
   "mimetype": "text/x-python",
   "name": "python",
   "nbconvert_exporter": "python",
   "pygments_lexer": "ipython3",
   "version": "3.7.5"
  }
 },
 "nbformat": 4,
 "nbformat_minor": 1
}
