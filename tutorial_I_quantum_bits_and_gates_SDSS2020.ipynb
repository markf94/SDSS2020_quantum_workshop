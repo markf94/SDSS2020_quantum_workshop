{
  "nbformat": 4,
  "nbformat_minor": 0,
  "metadata": {
    "kernelspec": {
      "display_name": "Python 3",
      "language": "python",
      "name": "python3"
    },
    "language_info": {
      "codemirror_mode": {
        "name": "ipython",
        "version": 3
      },
      "file_extension": ".py",
      "mimetype": "text/x-python",
      "name": "python",
      "nbconvert_exporter": "python",
      "pygments_lexer": "ipython3",
      "version": "3.7.0"
    },
    "colab": {
      "name": "tutorial_I_quantum_bits_and_gates_SDSS2020.ipynb",
      "provenance": [],
      "collapsed_sections": [],
      "include_colab_link": true
    }
  },
  "cells": [
    {
      "cell_type": "markdown",
      "metadata": {
        "id": "view-in-github",
        "colab_type": "text"
      },
      "source": [
        "<a href=\"https://colab.research.google.com/github/markf94/SDSS2020_quantum_workshop/blob/master/tutorial_I_quantum_bits_and_gates_SDSS2020.ipynb\" target=\"_parent\"><img src=\"https://colab.research.google.com/assets/colab-badge.svg\" alt=\"Open In Colab\"/></a>"
      ]
    },
    {
      "cell_type": "markdown",
      "metadata": {
        "id": "BKz9qa2pC-uA",
        "colab_type": "text"
      },
      "source": [
        "## Tutorial 1: Quantum bits & gates with Quil and PyQuil\n",
        "\n",
        "In this 30min tutorial, you will learn:\n",
        "* _How to initialize and manipulate a qubit_\n",
        "* _How to construct, run and measure simple quantum circuits using the Quil language_\n",
        "* _What the X, MEASURE, H and CNOT operations do_\n",
        "\n",
        "This tutorial is all about [Quil](https://github.com/rigetti/quil) which is the quantum instruction language used by [Rigetti](https://www.rigetti.com/)."
      ]
    },
    {
      "cell_type": "markdown",
      "metadata": {
        "id": "W8bdRciPlvn0",
        "colab_type": "text"
      },
      "source": [
        "First, we need to retrieve the IP address of this Google Colab notebook such that we can authenticate it with the quantum simulator & compiler backend. **PLEASE, send this IP address to your instructor (Mark) such that he can whitelist this IP on the server.**"
      ]
    },
    {
      "cell_type": "code",
      "metadata": {
        "id": "QDFbKPAdlwrs",
        "colab_type": "code",
        "colab": {}
      },
      "source": [
        "!curl ifconfig.me"
      ],
      "execution_count": 0,
      "outputs": []
    },
    {
      "cell_type": "markdown",
      "metadata": {
        "id": "WwEeIZQEl5Gu",
        "colab_type": "text"
      },
      "source": [
        "Next, we need to make sure that the `pyquil` library is installed."
      ]
    },
    {
      "cell_type": "code",
      "metadata": {
        "id": "nkl1PusnC-uE",
        "colab_type": "code",
        "colab": {}
      },
      "source": [
        "%matplotlib inline\n",
        "!pip install pyquil matplotlib"
      ],
      "execution_count": 0,
      "outputs": []
    },
    {
      "cell_type": "markdown",
      "metadata": {
        "id": "IzDi2PIezqjg",
        "colab_type": "text"
      },
      "source": [
        "Don't worry about these two next functions for now. They are making your life a bit easier. You can revisit and study them later."
      ]
    },
    {
      "cell_type": "code",
      "metadata": {
        "id": "xhSFbOxvC-u7",
        "colab_type": "code",
        "colab": {}
      },
      "source": [
        "from pyquil import get_qc, Program\n",
        "from pyquil.api import ForestConnection, WavefunctionSimulator\n",
        "\n",
        "# establishing connection to the simulator backend\n",
        "simulator_ip = '34.224.6.31'\n",
        "connection = ForestConnection(sync_endpoint=f'http://{simulator_ip}:5000', compiler_endpoint=f'tcp://{simulator_ip}:5555')\n",
        "simulator = WavefunctionSimulator(connection=connection)\n",
        "qvm = get_qc('5q-qvm', connection=connection)\n",
        "\n",
        "def execute(quil_program, trials=100, silent=False, raw=False):\n",
        "    \"\"\"\n",
        "    Thin function that takes a low-level Quil program and returns the\n",
        "    resulting probability distribution.\n",
        "    \"\"\"\n",
        "\n",
        "    results = [tuple(qvm.run(Program(quil_program))[0]) for _ in range(trials)]\n",
        "\n",
        "    if not silent:\n",
        "        observed_results = set(results)\n",
        "        for result in sorted(observed_results):\n",
        "            bitstring = ''.join(reversed(list(map(str, result))))\n",
        "            print(f'|{bitstring}> state: {results.count(result)/len(results)} [{results.count(result)}/{len(results)}]')\n",
        "        if raw:\n",
        "            print(f'Results: {results}')\n",
        "\n",
        "def plot(quil_program):\n",
        "    return simulator.wavefunction(Program(quil_program)).plot()    "
      ],
      "execution_count": 0,
      "outputs": []
    },
    {
      "cell_type": "markdown",
      "metadata": {
        "id": "PZwcn5ZIC-vE",
        "colab_type": "text"
      },
      "source": [
        "# Qubit\n",
        "\n",
        "The carrier of information in the quantum computing circuits is the qubit, usually denoted in the Dirac notation as\n",
        "\n",
        "$$\n",
        "\\newcommand{\\ket}[1]{\\left|{#1}\\right\\rangle}\n",
        "\\newcommand{\\bra}[1]{\\left\\langle{#1}\\right|}\n",
        "$$\n",
        "\n",
        "$$ \\ket{\\psi} = \\alpha \\ket{0}  + \\beta \\ket{1} $$ \n",
        "\n",
        "where\n",
        "\n",
        "$$ \\alpha,\\beta \\in \\mathbb{C} $$\n",
        "\n",
        "and\n",
        "\n",
        "$$\n",
        "\\ket{0} = \\begin{bmatrix}\n",
        "    0 \\\\\n",
        "    1 \\\\\n",
        "\\end{bmatrix}, \\,\\,\\, \\ket{1} = \\begin{bmatrix}\n",
        "    1 \\\\\n",
        "    0 \\\\\n",
        "\\end{bmatrix}\n",
        "$$\n",
        "\n",
        "\n",
        "# Quantum gates and measurement\n",
        "\n",
        "Quantum circuits are composed of two fundamental building blocks - quantum gates and the measurement operation. Here we introduce the first two single qubit operations:\n",
        "\n",
        "## X gate\n",
        "\n",
        "X gate serves like a quantum version of the NOT operator - it flips probability coefficients between the |0> and |1> state of the qubit it is applied to.\n",
        "\n",
        "$$\n",
        "X = \n",
        "\\begin{bmatrix}\n",
        "    0 & 1 \\\\\n",
        "    1 & 0 \\\\\n",
        "\\end{bmatrix}\n",
        "$$\n",
        "\n",
        "In a circuit diagram we draw:\n",
        "\n",
        "<img src=https://upload.wikimedia.org/wikipedia/commons/4/43/Qcircuit_X.svg width=\"200\">\n",
        "\n",
        "In the Quil language, we implement X as:\n",
        "\n",
        "```\n",
        "X <qubit>\n",
        "```\n",
        "\n",
        "The statement above applies X gate to qubit `<qubit>` i.e.\n",
        "\n",
        "```\n",
        "X 2\n",
        "```\n",
        "\n",
        "applies the X gate on qubit 2.\n",
        "\n",
        "\n",
        "## Measurement operation\n",
        "\n",
        "To read out the state of the qubit, we *measure* it, which forces it to collapse to one of its basis states.\n",
        "\n",
        "In a circuit diagram we draw:\n",
        "\n",
        "<img src=\"https://upload.wikimedia.org/wikipedia/commons/a/a7/Quantum_circuit_measurement_symbol.png\" width=\"150\">\n",
        "\n",
        "To measure a qubit in Quil, we use a `MEASURE` operation with the following syntax:\n",
        "\n",
        "```\n",
        "MEASURE <qubit> ro[<bit>]\n",
        "```\n",
        "\n",
        "where `<qubit>` is the qubit number, `ro` is the name of the classical register (readout) and `<bit>` is the index of the classical register to store the measurement result in.\n",
        "\n",
        "However, before you can write to a classical `ro` you have to initialize it! In Quil, this usually happens at the **very top of the file**:\n",
        "\n",
        "```\n",
        "DECLARE ro BIT[<num_bits>]\n",
        "```\n",
        "\n",
        "where `num_bits` is the number of classical bits we want in that classical register `ro`."
      ]
    },
    {
      "cell_type": "markdown",
      "metadata": {
        "id": "W-Ya-wNMC-vH",
        "colab_type": "text"
      },
      "source": [
        "#### Exercise 1.1\n",
        "\n",
        "Qubits in the circuits are always initialized to the same state. Conduct an experiment to figure out what the initial state of the qubits in the simulator is."
      ]
    },
    {
      "cell_type": "code",
      "metadata": {
        "id": "KqHaaeQfC-vI",
        "colab_type": "code",
        "colab": {}
      },
      "source": [
        "execute(\"\"\"\n",
        "  # TODO: write Quil code here\n",
        "\"\"\")"
      ],
      "execution_count": 0,
      "outputs": []
    },
    {
      "cell_type": "markdown",
      "metadata": {
        "id": "2mP8_o2HC-vV",
        "colab_type": "text"
      },
      "source": [
        "#### Exercise 1.2\n",
        "\n",
        "Create a quantum circuit that always produces state $\\ket{01}$."
      ]
    },
    {
      "cell_type": "code",
      "metadata": {
        "scrolled": true,
        "id": "_JYSM9dqC-vX",
        "colab_type": "code",
        "colab": {}
      },
      "source": [
        "execute(\"\"\"\n",
        "  # TODO: write Quil code here\n",
        "\"\"\")"
      ],
      "execution_count": 0,
      "outputs": []
    },
    {
      "cell_type": "markdown",
      "metadata": {
        "id": "l_gwId6c3NRI",
        "colab_type": "text"
      },
      "source": [
        "**Hint:**\n",
        "\n",
        "In quantum computing we count qubits from right to left. This means a quantum state with three qubits is written down like this:\n",
        "\n",
        "$$\\ket{q_2,q_1,q_o}$$\n",
        "\n",
        "If you're curious why this is the case you can check out [bonus exercise X2](https://colab.research.google.com/drive/1_LwrzKKgxliYmp6RICc6a9jG4AFt7BcW?authuser=1#scrollTo=mBD5Gc4ghmfW&line=1&uniqifier=1) if you have time at the end of this tutorial."
      ]
    },
    {
      "cell_type": "markdown",
      "metadata": {
        "id": "Q2Ha5Rw8C-vj",
        "colab_type": "text"
      },
      "source": [
        "## H gate\n",
        "\n",
        "H gate is often used to put basis states into uniform superposition:\n",
        "\n",
        "$$\n",
        "H = \\frac{1}{\\sqrt{2}}\n",
        "\\begin{bmatrix}\n",
        "    1 & 1 \\\\\n",
        "    -1 & 1 \\\\\n",
        "\\end{bmatrix}\n",
        "$$\n",
        "\n",
        "A uniform superposition is a quantum state with equal probability for all bitstrings e.g.\n",
        "\n",
        "$$|\\psi> = \\frac{1}{\\sqrt{2}} \\ket{0} + \\frac{1}{\\sqrt{2}} \\ket{1}$$\n",
        "\n",
        "Similiar to X gate (or any single qubit gate, really), we implement H as:\n",
        "\n",
        "```\n",
        "H <qubit>\n",
        "```"
      ]
    },
    {
      "cell_type": "markdown",
      "metadata": {
        "id": "74643ylGC-vl",
        "colab_type": "text"
      },
      "source": [
        "\n",
        "#### Exercise 1.3\n",
        "\n",
        "Figure out what the problem with the following circuit is and implement a fix."
      ]
    },
    {
      "cell_type": "code",
      "metadata": {
        "id": "b3_rJyWqC-vm",
        "colab_type": "code",
        "colab": {}
      },
      "source": [
        "execute(\"\"\"\n",
        "H 0\n",
        "MEASURE 0\n",
        "\"\"\")"
      ],
      "execution_count": 0,
      "outputs": []
    },
    {
      "cell_type": "markdown",
      "metadata": {
        "id": "GMn0qrHZC-vt",
        "colab_type": "text"
      },
      "source": [
        "#### Exercise 1.4\n",
        "\n",
        "Write a Quil program that creates a uniform superposition over all 2-bit strings:\n",
        "\n",
        "$$|\\psi> = \\frac{1}{2} (\\ket{00} + \\ket{01} + \\ket{10} + \\ket{11})$$"
      ]
    },
    {
      "cell_type": "code",
      "metadata": {
        "id": "UOdi1Sw2C-vv",
        "colab_type": "code",
        "colab": {}
      },
      "source": [
        "execute(\"\"\"\n",
        "  # TODO: write Quil code here\n",
        "\"\"\")"
      ],
      "execution_count": 0,
      "outputs": []
    },
    {
      "cell_type": "markdown",
      "metadata": {
        "id": "1gC4cbB3C-v5",
        "colab_type": "text"
      },
      "source": [
        "#### Exercise 1.5\n",
        "\n",
        "Plot a wavefunction of the program above. Why does it look different than the sample distribution? What program should we plot to mirror the sample distribution above?"
      ]
    },
    {
      "cell_type": "code",
      "metadata": {
        "id": "oTb0VmdlC-wI",
        "colab_type": "code",
        "colab": {}
      },
      "source": [
        "plot(\"\"\"\n",
        "  # TODO: write Quil code here\n",
        "\"\"\")"
      ],
      "execution_count": 0,
      "outputs": []
    },
    {
      "cell_type": "code",
      "metadata": {
        "id": "n1WlIj9WC-v7",
        "colab_type": "code",
        "colab": {}
      },
      "source": [
        "plot(\"\"\"\n",
        "  # TODO: write Quil code here\n",
        "\"\"\")"
      ],
      "execution_count": 0,
      "outputs": []
    },
    {
      "cell_type": "markdown",
      "metadata": {
        "id": "iu8bZjtGC-wV",
        "colab_type": "text"
      },
      "source": [
        "#### Exercise 1.6\n",
        "\n",
        "Implement a fair quantum 8-sided dice."
      ]
    },
    {
      "cell_type": "code",
      "metadata": {
        "scrolled": true,
        "id": "jBeSFj3sC-wV",
        "colab_type": "code",
        "colab": {}
      },
      "source": [
        "execute(\"\"\"\n",
        "  # TODO: write Quil code here\n",
        "\"\"\", trials=1000)"
      ],
      "execution_count": 0,
      "outputs": []
    },
    {
      "cell_type": "markdown",
      "metadata": {
        "id": "79v7Nrh0C-wf",
        "colab_type": "text"
      },
      "source": [
        "\n",
        "## C-NOT gate\n",
        "\n",
        "$CNOT$ gate is the first 2-qubit gate we encounter. This gate applies the NOT operation to the second qubit only if the first qubit (control) is $\\ket{1}$.\n",
        "\n",
        "$$\n",
        "CNOT = \n",
        "\\begin{bmatrix}\n",
        "    1 & 0 & 0 & 0\\\\\n",
        "    0 & 1 & 0 & 0\\\\\n",
        "    0 & 0 & 0 & 1\\\\\n",
        "    0 & 0 & 1 & 0\\\\\n",
        "\\end{bmatrix}\n",
        "$$\n",
        "\n",
        "In a circuit diagram we draw it as\n",
        "\n",
        "<img src=https://i.stack.imgur.com/kHu5I.png width=150>\n",
        "\n",
        "In the Quil language, we implement CNOT as:\n",
        "\n",
        "```\n",
        "CNOT <control_qubit> <qubit>\n",
        "```"
      ]
    },
    {
      "cell_type": "markdown",
      "metadata": {
        "id": "kKBoPPQoC-wh",
        "colab_type": "text"
      },
      "source": [
        "#### Exercise 1.7\n",
        "\n",
        "Implement a circuit with two qubits and a CNOT gate. Test this circuit on initial states $\\ket{00}$, $\\ket{01}$, $\\ket{10}$ and $\\ket{11}$."
      ]
    },
    {
      "cell_type": "code",
      "metadata": {
        "id": "q6uy2ZzeC-wh",
        "colab_type": "code",
        "colab": {}
      },
      "source": [
        "print('Initialized as |00>')\n",
        "execute(\"\"\"\n",
        "  # TODO: write Quil code here\n",
        "\"\"\")"
      ],
      "execution_count": 0,
      "outputs": []
    },
    {
      "cell_type": "code",
      "metadata": {
        "id": "oa13jzhVC-wo",
        "colab_type": "code",
        "colab": {}
      },
      "source": [
        "print('Initialized as |01>')\n",
        "execute(\"\"\"\n",
        "  # TODO: write Quil code here\n",
        "\"\"\")"
      ],
      "execution_count": 0,
      "outputs": []
    },
    {
      "cell_type": "code",
      "metadata": {
        "colab_type": "code",
        "id": "AJZqDRXb9meq",
        "colab": {}
      },
      "source": [
        "print('Initialized as |10>')\n",
        "execute(\"\"\"\n",
        "  # TODO: write Quil code here\n",
        "\"\"\")"
      ],
      "execution_count": 0,
      "outputs": []
    },
    {
      "cell_type": "code",
      "metadata": {
        "colab_type": "code",
        "id": "zljJmZea9mq7",
        "colab": {}
      },
      "source": [
        "print('Initialized as |11>')\n",
        "execute(\"\"\"\n",
        "  # TODO: write Quil code here\n",
        "\"\"\")"
      ],
      "execution_count": 0,
      "outputs": []
    },
    {
      "cell_type": "markdown",
      "metadata": {
        "id": "0KTbIiF7C-w0",
        "colab_type": "text"
      },
      "source": [
        "#### Exercise 1.8\n",
        "\n",
        "Write a program that constructs the following entangled pair of qubits:\n",
        "\n",
        "$$|\\psi> = \\frac{1}{\\sqrt{2}} \\ket{00} + \\frac{1}{\\sqrt{2}} \\ket{11}$$\n",
        "\n",
        "\n",
        "An entangled pair of qubits always collapses to the same basis state when measured. For example, if you measure qubit 0 in the `0` state then you immediately know that qubit 1 must be in the `0` state too!"
      ]
    },
    {
      "cell_type": "code",
      "metadata": {
        "id": "FcBxWTd7C-w2",
        "colab_type": "code",
        "colab": {}
      },
      "source": [
        "execute(\"\"\"\n",
        "  # TODO: write Quil code here\n",
        "\"\"\")"
      ],
      "execution_count": 0,
      "outputs": []
    },
    {
      "cell_type": "markdown",
      "metadata": {
        "id": "EwK3oTFTC-w8",
        "colab_type": "text"
      },
      "source": [
        "## Bonus exercises"
      ]
    },
    {
      "cell_type": "markdown",
      "metadata": {
        "id": "UdnV0L67_Tdj",
        "colab_type": "text"
      },
      "source": [
        "#### Bonus Exercise X1:\n",
        "\n",
        "Check out the [documentation page about Quil gates and instructions](http://docs.rigetti.com/en/stable/apidocs/gates.html). Build simple circuits and vary their inputs (flip some qubits at the beginning) to try and understand the following gates:\n",
        "\n",
        "`Y`, `CCNOT` and `SWAP`"
      ]
    },
    {
      "cell_type": "markdown",
      "metadata": {
        "id": "mBD5Gc4ghmfW",
        "colab_type": "text"
      },
      "source": [
        "#### Bonus Exercise X2:\n",
        "Read the paper with the title ['Someone shouts, “$\\ket{01000}$!” Who is excited?'](https://arxiv.org/pdf/1711.02086.pdf) by Rigetti staff member Robert Smith to gain a deeper understanding why we label qubits the reverse way ($\\ket{q_N, ..., q_1, q_0}$ rather than $\\ket{q_0, ..., q_{N-1}, q_N}$)."
      ]
    }
  ]
}